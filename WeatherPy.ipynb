{
 "cells": [
  {
   "cell_type": "markdown",
   "metadata": {},
   "source": [
    "# WeatherPy\n",
    "----\n",
    "\n",
    "#### Note\n",
    "* Instructions have been included for each segment. You do not have to follow them exactly, but they are included to help you think through the steps."
   ]
  },
  {
   "cell_type": "code",
   "execution_count": 1,
   "metadata": {
    "scrolled": true
   },
   "outputs": [],
   "source": [
    "# Dependencies and Setup\n",
    "import matplotlib.pyplot as plt\n",
    "import pandas as pd\n",
    "import numpy as np\n",
    "import requests\n",
    "import time\n",
    "import scipy.stats as st\n",
    "from scipy.stats import linregress\n",
    "\n",
    "# Import API key\n",
    "from api_keys import weather_api_key\n",
    "\n",
    "# Incorporated citipy to determine city based on latitude and longitude\n",
    "from citipy import citipy\n",
    "\n",
    "# Output File (CSV)\n",
    "output_data_file = \"output_data/cities.csv\"\n",
    "\n",
    "# Range of latitudes and longitudes\n",
    "lat_range = (-90, 90)\n",
    "lng_range = (-180, 180)"
   ]
  },
  {
   "cell_type": "markdown",
   "metadata": {},
   "source": [
    "## Generate Cities List"
   ]
  },
  {
   "cell_type": "code",
   "execution_count": 2,
   "metadata": {},
   "outputs": [
    {
     "data": {
      "text/plain": [
       "612"
      ]
     },
     "execution_count": 2,
     "metadata": {},
     "output_type": "execute_result"
    }
   ],
   "source": [
    "# List for holding lat_lngs and cities\n",
    "lat_lngs = []\n",
    "cities = []\n",
    "\n",
    "# Create a set of random lat and lng combinations\n",
    "lats = np.random.uniform(lat_range[0], lat_range[1], size=1500)\n",
    "lngs = np.random.uniform(lng_range[0], lng_range[1], size=1500)\n",
    "lat_lngs = zip(lats, lngs)\n",
    "\n",
    "# Identify nearest city for each lat, lng combination\n",
    "for lat_lng in lat_lngs:\n",
    "    city = citipy.nearest_city(lat_lng[0], lat_lng[1]).city_name\n",
    "    \n",
    "    # If the city is unique, then add it to a our cities list\n",
    "    if city not in cities:\n",
    "        cities.append(city)\n",
    "\n",
    "# Print the city count to confirm sufficient count\n",
    "len(cities)"
   ]
  },
  {
   "cell_type": "markdown",
   "metadata": {},
   "source": [
    "### Perform API Calls\n",
    "* Perform a weather check on each city using a series of successive API calls.\n",
    "* Include a print log of each city as it'sbeing processed (with the city number and city name).\n"
   ]
  },
  {
   "cell_type": "code",
   "execution_count": 3,
   "metadata": {
    "scrolled": true
   },
   "outputs": [
    {
     "name": "stdout",
     "output_type": "stream",
     "text": [
      "1. Processing City Number: 3874787 | City: punta arenas \n",
      "2. Processing City Number: 3833367 | City: ushuaia \n",
      "3. Processing City Number: 2206939 | City: bluff \n",
      "4. Processing City Number: 3450083 | City: santa maria \n",
      "5. Processing City Number: 884979 | City: mutare \n",
      "6. Processing City Number: 4030556 | City: rikitea \n",
      "7. Processing City Number: 6170031 | City: tuktoyaktuk \n",
      "8. Processing City Number: 1106677 | City: bambous virieux \n",
      "*** ERROR PROCESSING CITY illoqqortoormiut\n",
      "*** ERROR PROCESSING CITY fevralsk\n",
      "11. Processing City Number: 4031574 | City: provideniya \n",
      "12. Processing City Number: 1855540 | City: naze \n",
      "13. Processing City Number: 2063036 | City: port lincoln \n",
      "14. Processing City Number: 962367 | City: richards bay \n",
      "15. Processing City Number: 934322 | City: mahebourg \n",
      "16. Processing City Number: 5557293 | City: sitka \n",
      "17. Processing City Number: 3369157 | City: cape town \n",
      "18. Processing City Number: 5122534 | City: jamestown \n",
      "19. Processing City Number: 2017155 | City: saskylakh \n",
      "20. Processing City Number: 1242110 | City: kalmunai \n",
      "21. Processing City Number: 1517637 | City: ushtobe \n",
      "22. Processing City Number: 1651810 | City: airai \n",
      "23. Processing City Number: 6185377 | City: yellowknife \n",
      "24. Processing City Number: 4513583 | City: hamilton \n",
      "25. Processing City Number: 3883457 | City: lebu \n",
      "26. Processing City Number: 2537881 | City: asfi \n",
      "27. Processing City Number: 2355548 | City: sindou \n",
      "28. Processing City Number: 3521972 | City: panaba \n",
      "29. Processing City Number: 2022572 | City: khatanga \n",
      "30. Processing City Number: 87205 | City: darnah \n",
      "31. Processing City Number: 6167817 | City: torbay \n",
      "32. Processing City Number: 330534 | City: mizan teferi \n",
      "33. Processing City Number: 1517060 | City: zaysan \n",
      "34. Processing City Number: 3932145 | City: pisco \n",
      "35. Processing City Number: 2094027 | City: kieta \n",
      "36. Processing City Number: 1580240 | City: hue \n",
      "37. Processing City Number: 2110227 | City: butaritari \n",
      "38. Processing City Number: 2063042 | City: port hedland \n",
      "39. Processing City Number: 4032243 | City: vaini \n",
      "40. Processing City Number: 5062292 | City: valley city \n",
      "41. Processing City Number: 674636 | City: loamnes \n",
      "42. Processing City Number: 6201424 | City: mataura \n",
      "43. Processing City Number: 2019951 | City: mirnyy \n",
      "44. Processing City Number: 227904 | City: nebbi \n",
      "45. Processing City Number: 546105 | City: nikolskoye \n",
      "46. Processing City Number: 5106841 | City: albany \n",
      "47. Processing City Number: 935215 | City: saint-philippe \n",
      "48. Processing City Number: 5546220 | City: saint george \n",
      "49. Processing City Number: 2075265 | City: busselton \n",
      "50. Processing City Number: 3366880 | City: hermanus \n",
      "51. Processing City Number: 5855927 | City: hilo \n",
      "52. Processing City Number: 1735106 | City: georgetown \n",
      "53. Processing City Number: 2415702 | City: siguiri \n",
      "54. Processing City Number: 3836277 | City: santa fe \n",
      "55. Processing City Number: 3423146 | City: ilulissat \n",
      "56. Processing City Number: 69559 | City: yarim \n",
      "57. Processing City Number: 1486321 | City: yar-sale \n",
      "58. Processing City Number: 1648082 | City: boyolangu \n",
      "59. Processing City Number: 100926 | City: umm lajj \n",
      "60. Processing City Number: 2070998 | City: geraldton \n",
      "*** ERROR PROCESSING CITY barentsburg\n",
      "62. Processing City Number: 1819729 | City: victoria \n",
      "63. Processing City Number: 1630789 | City: pontianak \n",
      "64. Processing City Number: 5380437 | City: pacific grove \n",
      "65. Processing City Number: 3372707 | City: ribeira grande \n",
      "66. Processing City Number: 3512208 | City: azua \n",
      "67. Processing City Number: 5367788 | City: lompoc \n",
      "*** ERROR PROCESSING CITY belushya guba\n",
      "*** ERROR PROCESSING CITY sorvag\n",
      "70. Processing City Number: 4726521 | City: san patricio \n",
      "71. Processing City Number: 2246922 | City: ourossogui \n",
      "72. Processing City Number: 3860443 | City: comodoro rivadavia \n",
      "73. Processing City Number: 2094144 | City: kerema \n",
      "74. Processing City Number: 2171099 | City: codrington \n",
      "75. Processing City Number: 3471451 | City: arraial do cabo \n",
      "76. Processing City Number: 2146268 | City: toowoomba \n",
      "77. Processing City Number: 2013375 | City: vitim \n",
      "78. Processing City Number: 2643044 | City: margate \n",
      "79. Processing City Number: 3622716 | City: nicoya \n",
      "80. Processing City Number: 3899695 | City: ancud \n",
      "81. Processing City Number: 1511329 | City: asbestovskiy \n",
      "82. Processing City Number: 741609 | City: merzifon \n",
      "83. Processing City Number: 3516148 | City: tecolutla \n",
      "84. Processing City Number: 1805515 | City: jinji \n",
      "85. Processing City Number: 3397967 | City: itaituba \n",
      "*** ERROR PROCESSING CITY taolanaro\n",
      "87. Processing City Number: 986717 | City: kruisfontein \n",
      "88. Processing City Number: 2074865 | City: carnarvon \n",
      "89. Processing City Number: 5550368 | City: wasco \n",
      "90. Processing City Number: 1488074 | City: ust-tarka \n",
      "91. Processing City Number: 1796663 | City: sanming \n",
      "92. Processing City Number: 3448903 | City: sao joao da barra \n",
      "93. Processing City Number: 4036284 | City: alofi \n",
      "94. Processing City Number: 3115824 | City: muros \n",
      "95. Processing City Number: 3153517 | City: hauknes \n",
      "96. Processing City Number: 1264976 | City: leh \n",
      "97. Processing City Number: 211647 | City: lodja \n",
      "98. Processing City Number: 3576994 | City: cockburn town \n",
      "99. Processing City Number: 3382160 | City: cayenne \n",
      "100. Processing City Number: 1015776 | City: bredasdorp \n",
      "101. Processing City Number: 2023584 | City: imeni poliny osipenko \n",
      "102. Processing City Number: 3405215 | City: bonfim \n",
      "103. Processing City Number: 6149996 | City: smithers \n",
      "104. Processing City Number: 2122090 | City: pevek \n",
      "105. Processing City Number: 4035715 | City: avarua \n",
      "106. Processing City Number: 1506254 | City: gornyy \n",
      "*** ERROR PROCESSING CITY sentyabrskiy\n",
      "108. Processing City Number: 3381538 | City: grand-santi \n",
      "109. Processing City Number: 1006984 | City: east london \n",
      "*** ERROR PROCESSING CITY icanti\n",
      "111. Processing City Number: 933995 | City: souillac \n",
      "112. Processing City Number: 368246 | City: raga \n",
      "113. Processing City Number: 2126199 | City: cherskiy \n",
      "*** ERROR PROCESSING CITY nizhneyansk\n",
      "115. Processing City Number: 2629833 | City: husavik \n",
      "116. Processing City Number: 3902377 | City: trinidad \n",
      "117. Processing City Number: 1513491 | City: komsomolskiy \n",
      "118. Processing City Number: 566456 | City: dergachi \n",
      "119. Processing City Number: 2109701 | City: auki \n",
      "120. Processing City Number: 3067580 | City: prerov \n",
      "121. Processing City Number: 1501377 | City: kungurtug \n",
      "122. Processing City Number: 6145890 | City: shelburne \n",
      "123. Processing City Number: 3445026 | City: vila velha \n",
      "124. Processing City Number: 4951594 | City: southbridge \n",
      "125. Processing City Number: 5848280 | City: kapaa \n",
      "*** ERROR PROCESSING CITY grand river south east\n",
      "127. Processing City Number: 1591474 | City: bac lieu \n",
      "128. Processing City Number: 1174451 | City: keti bandar \n",
      "129. Processing City Number: 5991056 | City: kenora \n",
      "130. Processing City Number: 4683244 | City: copperas cove \n",
      "*** ERROR PROCESSING CITY bolungarvik\n",
      "132. Processing City Number: 1282256 | City: hithadhoo \n",
      "*** ERROR PROCESSING CITY umzimvubu\n",
      "134. Processing City Number: 126972 | City: khoy \n",
      "135. Processing City Number: 1313479 | City: loikaw \n",
      "136. Processing City Number: 3652764 | City: puerto ayora \n",
      "137. Processing City Number: 2173911 | City: broken hill \n",
      "138. Processing City Number: 1511094 | City: bagan \n",
      "139. Processing City Number: 5017822 | City: bemidji \n",
      "140. Processing City Number: 6137462 | City: saint-augustin \n",
      "141. Processing City Number: 2514651 | City: los llanos de aridane \n",
      "142. Processing City Number: 607610 | City: zhanaozen \n",
      "*** ERROR PROCESSING CITY kachikau\n",
      "144. Processing City Number: 2121025 | City: srednekolymsk \n",
      "145. Processing City Number: 824385 | City: naruja \n",
      "146. Processing City Number: 780687 | City: berlevag \n",
      "147. Processing City Number: 2264557 | City: ponta do sol \n",
      "148. Processing City Number: 3466704 | City: castro \n",
      "*** ERROR PROCESSING CITY gurskoye\n",
      "150. Processing City Number: 2013392 | City: vilyuysk \n",
      "151. Processing City Number: 2019935 | City: mnogovershinnyy \n",
      "152. Processing City Number: 6113406 | City: prince rupert \n",
      "153. Processing City Number: 1852357 | City: shimoda \n",
      "154. Processing City Number: 1649150 | City: bengkulu \n",
      "155. Processing City Number: 1244926 | City: hambantota \n"
     ]
    },
    {
     "name": "stdout",
     "output_type": "stream",
     "text": [
      "156. Processing City Number: 1106643 | City: quatre cocos \n",
      "157. Processing City Number: 2012956 | City: yerbogachen \n",
      "158. Processing City Number: 3380290 | City: sinnamary \n",
      "159. Processing City Number: 4946620 | City: palmer \n",
      "160. Processing City Number: 5925975 | City: collingwood \n",
      "161. Processing City Number: 5364271 | City: laguna \n",
      "162. Processing City Number: 921786 | City: mitsamiouli \n",
      "163. Processing City Number: 3416888 | City: grindavik \n",
      "*** ERROR PROCESSING CITY labutta\n",
      "*** ERROR PROCESSING CITY kegayli\n",
      "166. Processing City Number: 2332453 | City: lagos \n",
      "167. Processing City Number: 2112802 | City: hasaki \n",
      "168. Processing City Number: 708324 | City: horodnytsya \n",
      "169. Processing City Number: 2163355 | City: hobart \n",
      "170. Processing City Number: 1624041 | City: ternate \n",
      "*** ERROR PROCESSING CITY kargapolye\n",
      "172. Processing City Number: 2339150 | City: idanre \n",
      "173. Processing City Number: 1640344 | City: kendari \n",
      "174. Processing City Number: 2208248 | City: kaitangata \n",
      "175. Processing City Number: 2126710 | City: beringovskiy \n",
      "176. Processing City Number: 4031637 | City: lavrentiya \n",
      "177. Processing City Number: 2281120 | City: tabou \n",
      "178. Processing City Number: 3451138 | City: rio grande \n",
      "179. Processing City Number: 964432 | City: port alfred \n",
      "180. Processing City Number: 2409306 | City: freetown \n",
      "181. Processing City Number: 3408368 | City: acarau \n",
      "182. Processing City Number: 64013 | City: bosaso \n",
      "183. Processing City Number: 2180815 | City: tuatapere \n",
      "*** ERROR PROCESSING CITY miranorte\n",
      "185. Processing City Number: 5282297 | City: bethel \n",
      "186. Processing City Number: 2377457 | City: nouadhibou \n",
      "187. Processing City Number: 2155415 | City: new norfolk \n",
      "188. Processing City Number: 1000543 | City: graaff-reinet \n",
      "189. Processing City Number: 565778 | City: dobryanka \n",
      "190. Processing City Number: 1153035 | City: kathu \n",
      "191. Processing City Number: 3418910 | City: upernavik \n",
      "192. Processing City Number: 4686163 | City: dickinson \n",
      "193. Processing City Number: 2121385 | City: severo-kurilsk \n",
      "194. Processing City Number: 6620339 | City: karratha \n",
      "195. Processing City Number: 2618795 | City: klaksvik \n",
      "196. Processing City Number: 4034551 | City: faanui \n",
      "197. Processing City Number: 2025256 | City: chumikan \n",
      "198. Processing City Number: 4791259 | City: virginia beach \n",
      "199. Processing City Number: 162627 | City: yabrud \n",
      "200. Processing City Number: 5866583 | City: kodiak \n",
      "201. Processing City Number: 4032369 | City: pangai \n",
      "202. Processing City Number: 3372964 | City: lagoa \n",
      "203. Processing City Number: 1510377 | City: belyy yar \n",
      "*** ERROR PROCESSING CITY mys shmidta\n",
      "205. Processing City Number: 3831208 | City: qaanaaq \n",
      "206. Processing City Number: 5203127 | City: new castle \n",
      "207. Processing City Number: 5882953 | City: aklavik \n",
      "208. Processing City Number: 6050066 | City: la ronge \n",
      "209. Processing City Number: 2018069 | City: peleduy \n",
      "210. Processing City Number: 2027198 | City: balagansk \n",
      "211. Processing City Number: 2523082 | City: syracuse \n",
      "212. Processing City Number: 4021858 | City: guerrero negro \n",
      "213. Processing City Number: 653272 | City: kemijarvi \n",
      "214. Processing City Number: 1067565 | City: beloha \n",
      "215. Processing City Number: 777019 | City: vardo \n",
      "216. Processing City Number: 964420 | City: port elizabeth \n",
      "217. Processing City Number: 876177 | City: luau \n",
      "218. Processing City Number: 2729907 | City: longyearbyen \n",
      "219. Processing City Number: 5110365 | City: broome \n",
      "220. Processing City Number: 6165406 | City: thompson \n",
      "221. Processing City Number: 3664980 | City: boa vista \n",
      "222. Processing City Number: 3353383 | City: rundu \n",
      "223. Processing City Number: 453754 | City: valmiera \n",
      "224. Processing City Number: 1862505 | City: hirara \n",
      "225. Processing City Number: 3939761 | City: hualmay \n",
      "226. Processing City Number: 1337607 | City: kudahuvadhoo \n",
      "*** ERROR PROCESSING CITY rungata\n",
      "228. Processing City Number: 3424607 | City: tasiilaq \n",
      "229. Processing City Number: 1062663 | City: mahajanga \n",
      "230. Processing City Number: 3530599 | City: carmen \n",
      "231. Processing City Number: 2646557 | City: horsham \n",
      "232. Processing City Number: 2322911 | City: sokoto \n",
      "233. Processing City Number: 3430863 | City: mar del plata \n",
      "234. Processing City Number: 2119283 | City: zyryanka \n",
      "235. Processing City Number: 3443061 | City: chuy \n",
      "236. Processing City Number: 2229761 | City: kribi \n",
      "237. Processing City Number: 2126123 | City: chokurdakh \n",
      "238. Processing City Number: 2057087 | City: kupang \n",
      "239. Processing City Number: 3456642 | City: mozarlandia \n",
      "240. Processing City Number: 4020109 | City: atuona \n",
      "241. Processing City Number: 5924351 | City: clyde river \n",
      "242. Processing City Number: 2707684 | City: harnosand \n",
      "243. Processing City Number: 1259385 | City: port blair \n",
      "*** ERROR PROCESSING CITY chagda\n",
      "245. Processing City Number: 2240449 | City: luanda \n",
      "246. Processing City Number: 2980080 | City: saint-francois \n",
      "247. Processing City Number: 2769623 | City: oberwart \n",
      "*** ERROR PROCESSING CITY attawapiskat\n",
      "249. Processing City Number: 528278 | City: mayna \n",
      "250. Processing City Number: 5711149 | City: altamont \n",
      "251. Processing City Number: 3450188 | City: santa isabel \n",
      "252. Processing City Number: 286621 | City: salalah \n",
      "253. Processing City Number: 4470244 | City: havelock \n",
      "254. Processing City Number: 135423 | City: shahrud \n",
      "255. Processing City Number: 5742974 | City: north bend \n",
      "256. Processing City Number: 104515 | City: mecca \n",
      "257. Processing City Number: 1490256 | City: talnakh \n",
      "258. Processing City Number: 601551 | City: akdepe \n",
      "*** ERROR PROCESSING CITY yunjinghong\n",
      "260. Processing City Number: 110690 | City: abha \n",
      "261. Processing City Number: 2392087 | City: porto novo \n",
      "*** ERROR PROCESSING CITY vaitupu\n",
      "263. Processing City Number: 3982837 | City: sonoita \n",
      "264. Processing City Number: 4011873 | City: doctor arroyo \n",
      "265. Processing City Number: 1688363 | City: santa catalina \n",
      "266. Processing City Number: 1503153 | City: klyuchi \n",
      "267. Processing City Number: 2123814 | City: leningradskiy \n",
      "268. Processing City Number: 5880054 | City: barrow \n",
      "269. Processing City Number: 3661980 | City: tarauaca \n",
      "270. Processing City Number: 2136825 | City: isangel \n",
      "271. Processing City Number: 2181625 | City: te anau \n",
      "*** ERROR PROCESSING CITY ruatoria\n",
      "273. Processing City Number: 2219235 | City: awbari \n",
      "274. Processing City Number: 2137773 | City: vao \n",
      "275. Processing City Number: 2194098 | City: ahipara \n",
      "276. Processing City Number: 4696233 | City: harlingen \n",
      "*** ERROR PROCESSING CITY amderma\n",
      "278. Processing City Number: 4499379 | City: wilmington \n",
      "279. Processing City Number: 632978 | City: vaasa \n",
      "280. Processing City Number: 3893629 | City: coquimbo \n",
      "281. Processing City Number: 3448257 | City: sao sebastiao \n",
      "282. Processing City Number: 1568574 | City: qui nhon \n",
      "283. Processing City Number: 4031742 | City: egvekinot \n",
      "284. Processing City Number: 2068110 | City: kununurra \n",
      "285. Processing City Number: 1066831 | City: beroroha \n",
      "286. Processing City Number: 3466165 | City: cidreira \n",
      "287. Processing City Number: 2127060 | City: arman \n",
      "288. Processing City Number: 2126682 | City: bilibino \n",
      "289. Processing City Number: 1488429 | City: uray \n",
      "290. Processing City Number: 2015306 | City: tiksi \n",
      "291. Processing City Number: 3352593 | City: tsumeb \n",
      "292. Processing City Number: 2412408 | City: nioro \n",
      "293. Processing City Number: 3877949 | City: osorno \n",
      "294. Processing City Number: 3894426 | City: coihaique \n",
      "295. Processing City Number: 1650434 | City: bambanglipuro \n",
      "296. Processing City Number: 5861897 | City: fairbanks \n",
      "297. Processing City Number: 3414079 | City: olafsvik \n",
      "298. Processing City Number: 3388615 | City: sao joao dos patos \n",
      "299. Processing City Number: 2563140 | City: dingli \n",
      "*** ERROR PROCESSING CITY saleaula\n",
      "301. Processing City Number: 2449893 | City: tessalit \n",
      "302. Processing City Number: 2071860 | City: esperance \n",
      "303. Processing City Number: 2012349 | City: krasnyy chikoy \n",
      "304. Processing City Number: 5379533 | City: orange cove \n",
      "305. Processing City Number: 5855051 | City: ewa beach \n",
      "306. Processing City Number: 609924 | City: emba \n",
      "307. Processing City Number: 1715015 | City: dicabisagan \n",
      "308. Processing City Number: 704469 | City: krasna \n",
      "309. Processing City Number: 2123979 | City: kurilsk \n"
     ]
    },
    {
     "name": "stdout",
     "output_type": "stream",
     "text": [
      "310. Processing City Number: 5044290 | City: saint anthony \n",
      "311. Processing City Number: 6180550 | City: whitehorse \n",
      "312. Processing City Number: 5563839 | City: fortuna \n",
      "313. Processing City Number: 5850554 | City: makakilo city \n",
      "*** ERROR PROCESSING CITY palabuhanratu\n",
      "315. Processing City Number: 3361934 | City: saldanha \n",
      "316. Processing City Number: 2036973 | City: heihe \n",
      "317. Processing City Number: 4944903 | City: nantucket \n",
      "318. Processing City Number: 6074882 | City: minnedosa \n",
      "319. Processing City Number: 965528 | City: phalaborwa \n",
      "320. Processing City Number: 1489401 | City: toora-khem \n",
      "321. Processing City Number: 5961564 | City: glace bay \n",
      "322. Processing City Number: 3374083 | City: bathsheba \n",
      "*** ERROR PROCESSING CITY kamenskoye\n",
      "324. Processing City Number: 1513990 | City: gazli \n",
      "325. Processing City Number: 3533462 | City: acapulco \n",
      "326. Processing City Number: 3929493 | City: san juan bautista \n",
      "327. Processing City Number: 2162683 | City: innisfail \n",
      "328. Processing City Number: 3084404 | City: strzelin \n",
      "329. Processing City Number: 3388145 | City: sao raimundo nonato \n",
      "330. Processing City Number: 3197710 | City: korcula \n",
      "331. Processing City Number: 3354071 | City: oranjemund \n",
      "332. Processing City Number: 2280316 | City: toumodi \n",
      "333. Processing City Number: 3161724 | City: berger \n",
      "334. Processing City Number: 2094342 | City: kavieng \n",
      "335. Processing City Number: 889215 | City: kariba \n",
      "336. Processing City Number: 1650527 | City: balikpapan \n",
      "337. Processing City Number: 5780557 | City: riverton \n",
      "338. Processing City Number: 3985710 | City: cabo san lucas \n",
      "339. Processing City Number: 2447513 | City: arlit \n",
      "340. Processing City Number: 3448828 | City: sao joaquim \n",
      "341. Processing City Number: 1538641 | City: kedrovyy \n",
      "342. Processing City Number: 964712 | City: plettenberg bay \n",
      "343. Processing City Number: 50814 | City: wajid \n",
      "344. Processing City Number: 3132893 | City: valer \n",
      "345. Processing City Number: 3372760 | City: praia da vitoria \n",
      "346. Processing City Number: 6089245 | City: norman wells \n",
      "347. Processing City Number: 2312888 | City: mbanza-ngungu \n",
      "348. Processing City Number: 6453316 | City: tromso \n",
      "349. Processing City Number: 2450173 | City: taoudenni \n",
      "350. Processing City Number: 1224061 | City: wattegama \n",
      "351. Processing City Number: 2457161 | City: gao \n",
      "352. Processing City Number: 2122493 | City: omsukchan \n",
      "353. Processing City Number: 934649 | City: cap malheureux \n",
      "354. Processing City Number: 3393471 | City: oriximina \n",
      "355. Processing City Number: 2638664 | City: salisbury \n",
      "356. Processing City Number: 3386177 | City: trairi \n",
      "357. Processing City Number: 3421765 | City: nanortalik \n",
      "358. Processing City Number: 724156 | City: medzilaborce \n",
      "359. Processing City Number: 704303 | City: krasnotorka \n",
      "360. Processing City Number: 3420846 | City: qaqortoq \n",
      "361. Processing City Number: 470905 | City: vuktyl \n",
      "362. Processing City Number: 4328010 | City: houma \n",
      "363. Processing City Number: 3359638 | City: walvis bay \n",
      "364. Processing City Number: 686090 | City: asau \n",
      "365. Processing City Number: 5866063 | City: kenai \n",
      "366. Processing City Number: 1504682 | City: kansk \n",
      "367. Processing City Number: 5962442 | City: goderich \n",
      "368. Processing City Number: 3995236 | City: mulege \n",
      "369. Processing City Number: 5895424 | City: bay roberts \n",
      "370. Processing City Number: 3670218 | City: san andres \n",
      "371. Processing City Number: 172515 | City: abu samrah \n",
      "372. Processing City Number: 1493197 | City: salekhard \n",
      "373. Processing City Number: 623760 | City: pastavy \n",
      "374. Processing City Number: 2012530 | City: zhigansk \n",
      "375. Processing City Number: 3407407 | City: aquiraz \n",
      "376. Processing City Number: 4000490 | City: la reforma \n",
      "377. Processing City Number: 3839307 | City: rawson \n",
      "378. Processing City Number: 1805733 | City: jinchang \n",
      "379. Processing City Number: 6355222 | City: yulara \n",
      "380. Processing City Number: 5847411 | City: kahului \n",
      "381. Processing City Number: 2020311 | City: mamakan \n",
      "382. Processing City Number: 3137469 | City: sorland \n",
      "383. Processing City Number: 1516048 | City: hovd \n",
      "384. Processing City Number: 3388847 | City: sao felix do xingu \n",
      "*** ERROR PROCESSING CITY ciras\n",
      "386. Processing City Number: 5129852 | City: oneonta \n",
      "387. Processing City Number: 5380420 | City: pacifica \n",
      "388. Processing City Number: 2015833 | City: svobodnyy \n",
      "389. Processing City Number: 1512019 | City: aksarka \n",
      "390. Processing City Number: 4018499 | City: nacozari \n",
      "391. Processing City Number: 1279945 | City: jiuquan \n",
      "392. Processing City Number: 779330 | City: kautokeino \n",
      "393. Processing City Number: 1507390 | City: dikson \n",
      "394. Processing City Number: 4954611 | City: watertown \n",
      "395. Processing City Number: 1045114 | City: inhambane \n",
      "396. Processing City Number: 2027316 | City: ayan \n",
      "397. Processing City Number: 3836620 | City: san ramon de la nueva oran \n",
      "398. Processing City Number: 1861280 | City: itoman \n",
      "399. Processing City Number: 6255012 | City: flinders \n",
      "400. Processing City Number: 1788852 | City: xining \n",
      "401. Processing City Number: 3440777 | City: rocha \n",
      "402. Processing City Number: 2417886 | City: mali \n",
      "403. Processing City Number: 2206894 | City: hokitika \n",
      "*** ERROR PROCESSING CITY mergui\n",
      "405. Processing City Number: 3374210 | City: sao filipe \n",
      "406. Processing City Number: 7601762 | City: bairiki \n",
      "407. Processing City Number: 3573374 | City: the valley \n",
      "408. Processing City Number: 1586443 | City: ca mau \n",
      "409. Processing City Number: 293842 | City: gat \n",
      "410. Processing City Number: 2122614 | City: okha \n",
      "411. Processing City Number: 2157373 | City: mittagong \n",
      "412. Processing City Number: 2160735 | City: lakes entrance \n",
      "413. Processing City Number: 3628473 | City: san cristobal \n",
      "414. Processing City Number: 3625066 | City: zaraza \n",
      "*** ERROR PROCESSING CITY borama\n",
      "416. Processing City Number: 236950 | City: obo \n",
      "417. Processing City Number: 2168305 | City: dubbo \n",
      "*** ERROR PROCESSING CITY tumannyy\n",
      "419. Processing City Number: 3674292 | City: mosquera \n",
      "420. Processing City Number: 98182 | City: baghdad \n",
      "421. Processing City Number: 2430506 | City: kelo \n",
      "422. Processing City Number: 2092164 | City: lorengau \n",
      "423. Processing City Number: 468747 | City: yashkul \n",
      "*** ERROR PROCESSING CITY nguiu\n",
      "425. Processing City Number: 942511 | City: vryburg \n",
      "426. Processing City Number: 7117100 | City: vila \n",
      "427. Processing City Number: 777682 | City: skjervoy \n",
      "*** ERROR PROCESSING CITY tsihombe\n",
      "429. Processing City Number: 2294915 | City: takoradi \n",
      "430. Processing City Number: 1640902 | City: kawalu \n",
      "431. Processing City Number: 3473267 | City: abaete \n",
      "432. Processing City Number: 6078372 | City: moose factory \n",
      "433. Processing City Number: 2013279 | City: vostok \n",
      "434. Processing City Number: 3838859 | City: rio gallegos \n",
      "435. Processing City Number: 4362001 | City: mayo \n",
      "436. Processing City Number: 4174855 | City: tarpon springs \n",
      "*** ERROR PROCESSING CITY malwan\n",
      "438. Processing City Number: 2738381 | City: lata \n",
      "439. Processing City Number: 3430545 | City: moron \n",
      "440. Processing City Number: 2374583 | City: bubaque \n",
      "441. Processing City Number: 343292 | City: asosa \n",
      "442. Processing City Number: 3385670 | City: urucara \n",
      "443. Processing City Number: 1502073 | City: krasnoselkup \n",
      "444. Processing City Number: 2112309 | City: katsuura \n",
      "445. Processing City Number: 934479 | City: grand gaube \n",
      "446. Processing City Number: 6138802 | City: saint-michel-des-saints \n",
      "447. Processing City Number: 2027244 | City: bagdarin \n",
      "448. Processing City Number: 3870243 | City: taltal \n",
      "449. Processing City Number: 3092472 | City: marienburg \n",
      "450. Processing City Number: 6096551 | City: pangnirtung \n",
      "451. Processing City Number: 909887 | City: luangwa \n",
      "452. Processing City Number: 2206874 | City: waipawa \n",
      "453. Processing City Number: 4032420 | City: neiafu \n",
      "454. Processing City Number: 4994868 | City: grosse pointe park \n",
      "455. Processing City Number: 2271968 | City: aljezur \n",
      "456. Processing City Number: 3455580 | City: padre bernardo \n",
      "457. Processing City Number: 2466075 | City: sidi bin nur \n",
      "458. Processing City Number: 352628 | City: matay \n",
      "459. Processing City Number: 1337610 | City: thinadhoo \n",
      "460. Processing City Number: 5946820 | City: edson \n",
      "*** ERROR PROCESSING CITY tawkar\n"
     ]
    },
    {
     "name": "stdout",
     "output_type": "stream",
     "text": [
      "462. Processing City Number: 1037125 | City: montepuez \n",
      "463. Processing City Number: 3038789 | City: abbeville \n",
      "464. Processing City Number: 2137748 | City: voh \n",
      "465. Processing City Number: 553766 | City: kamenka \n",
      "466. Processing City Number: 3667202 | City: tibu \n",
      "467. Processing City Number: 2156643 | City: mount gambier \n",
      "468. Processing City Number: 5178195 | City: altoona \n",
      "*** ERROR PROCESSING CITY karkaralinsk\n",
      "470. Processing City Number: 3419842 | City: sisimiut \n",
      "471. Processing City Number: 1623197 | City: tual \n",
      "472. Processing City Number: 4392388 | City: jefferson city \n",
      "473. Processing City Number: 515246 | City: onega \n",
      "474. Processing City Number: 2214846 | City: misratah \n",
      "*** ERROR PROCESSING CITY karaul\n",
      "476. Processing City Number: 2121909 | City: poronaysk \n",
      "477. Processing City Number: 4018499 | City: angostura \n",
      "478. Processing City Number: 778707 | City: mehamn \n",
      "479. Processing City Number: 2125693 | City: evensk \n",
      "480. Processing City Number: 2454934 | City: kolondieba \n",
      "481. Processing City Number: 244878 | City: biltine \n",
      "482. Processing City Number: 6137381 | City: saint-ambroise \n",
      "483. Processing City Number: 1799574 | City: nanzhang \n",
      "*** ERROR PROCESSING CITY bargal\n",
      "485. Processing City Number: 1527497 | City: kyzyl-suu \n",
      "486. Processing City Number: 1529484 | City: hami \n",
      "487. Processing City Number: 1528998 | City: yumen \n",
      "488. Processing City Number: 5392171 | City: san jose \n",
      "489. Processing City Number: 3175096 | City: lasa \n",
      "490. Processing City Number: 3579925 | City: saint-georges \n",
      "491. Processing City Number: 3446077 | City: tres pontas \n",
      "*** ERROR PROCESSING CITY macaboboni\n",
      "493. Processing City Number: 3451051 | City: rio verde de mato grosso \n",
      "494. Processing City Number: 3988265 | City: sahuaripa \n",
      "495. Processing City Number: 3461641 | City: iaciara \n",
      "496. Processing City Number: 3454139 | City: perdoes \n",
      "*** ERROR PROCESSING CITY koboldo\n",
      "498. Processing City Number: 3893726 | City: constitucion \n",
      "499. Processing City Number: 1502879 | City: kolosovka \n",
      "500. Processing City Number: 2065176 | City: murray bridge \n",
      "501. Processing City Number: 2523451 | City: san giuseppe jato \n",
      "502. Processing City Number: 878054 | City: masuguru \n",
      "503. Processing City Number: 1651461 | City: amuntai \n",
      "504. Processing City Number: 976361 | City: middelburg \n",
      "505. Processing City Number: 5955902 | City: fort nelson \n",
      "506. Processing City Number: 3837702 | City: catamarca \n",
      "507. Processing City Number: 2312895 | City: mbandaka \n",
      "508. Processing City Number: 1650232 | City: banjar \n",
      "509. Processing City Number: 1785462 | City: zaoyang \n",
      "510. Processing City Number: 1488414 | City: urengoy \n",
      "511. Processing City Number: 1526970 | City: abay \n",
      "512. Processing City Number: 1176608 | City: islamkot \n",
      "513. Processing City Number: 3388456 | City: sao jose da coroa grande \n",
      "514. Processing City Number: 2693759 | City: ludvika \n",
      "515. Processing City Number: 3466980 | City: caravelas \n",
      "516. Processing City Number: 1252451 | City: shemgang \n",
      "517. Processing City Number: 2641434 | City: northam \n",
      "518. Processing City Number: 1267390 | City: kavaratti \n",
      "519. Processing City Number: 2172880 | City: byron bay \n",
      "520. Processing City Number: 5478673 | City: meadow lake \n",
      "521. Processing City Number: 672899 | City: moldovita \n",
      "522. Processing City Number: 4231997 | City: avera \n",
      "523. Processing City Number: 3386213 | City: touros \n",
      "524. Processing City Number: 1789945 | City: xiaoweizhai \n",
      "525. Processing City Number: 2138555 | City: poum \n",
      "526. Processing City Number: 3347019 | City: namibe \n",
      "527. Processing City Number: 5787423 | City: black diamond \n",
      "528. Processing City Number: 1028434 | City: quelimane \n",
      "529. Processing City Number: 3390581 | City: riachao \n",
      "530. Processing City Number: 2134814 | City: sola \n",
      "531. Processing City Number: 2097418 | City: finschhafen \n",
      "532. Processing City Number: 3924872 | City: presidente medici \n",
      "533. Processing City Number: 5903535 | City: blairmore \n",
      "534. Processing City Number: 1701054 | City: marawi \n",
      "535. Processing City Number: 372884 | City: kapoeta \n",
      "536. Processing City Number: 2439155 | City: tanout \n",
      "537. Processing City Number: 2065594 | City: mount isa \n",
      "538. Processing City Number: 3582678 | City: belize \n",
      "539. Processing City Number: 3397763 | City: jacareacanga \n",
      "540. Processing City Number: 5563397 | City: eureka \n",
      "541. Processing City Number: 1268008 | City: kanniyakumari \n",
      "542. Processing City Number: 2460954 | City: araouane \n",
      "543. Processing City Number: 367544 | City: sawakin \n",
      "544. Processing City Number: 2335953 | City: jos \n",
      "545. Processing City Number: 161974 | City: gazanjyk \n",
      "546. Processing City Number: 4004293 | City: ixtapa \n",
      "547. Processing City Number: 1637001 | City: biak \n",
      "548. Processing City Number: 359792 | City: aswan \n",
      "549. Processing City Number: 296852 | City: erzin \n",
      "550. Processing City Number: 5443910 | City: westminster \n",
      "551. Processing City Number: 1791748 | City: wanxian \n",
      "*** ERROR PROCESSING CITY hihifo\n",
      "553. Processing City Number: 187968 | City: malindi \n",
      "*** ERROR PROCESSING CITY ust-kamchatsk\n",
      "555. Processing City Number: 2177069 | City: ballina \n",
      "556. Processing City Number: 377472 | City: bentiu \n",
      "557. Processing City Number: 1811720 | City: enshi \n",
      "558. Processing City Number: 702477 | City: lyubech \n",
      "559. Processing City Number: 2024626 | City: dzhebariki-khaya \n",
      "*** ERROR PROCESSING CITY rawannawi\n",
      "*** ERROR PROCESSING CITY amancio\n",
      "562. Processing City Number: 4323873 | City: estelle \n",
      "563. Processing City Number: 3394023 | City: natal \n",
      "*** ERROR PROCESSING CITY toliary\n",
      "*** ERROR PROCESSING CITY wulanhaote\n",
      "566. Processing City Number: 5554428 | City: ketchikan \n",
      "567. Processing City Number: 1250161 | City: batticaloa \n",
      "568. Processing City Number: 4764826 | City: hopewell \n",
      "569. Processing City Number: 5870133 | City: nome \n",
      "570. Processing City Number: 2013918 | City: ust-maya \n",
      "*** ERROR PROCESSING CITY tabiauea\n",
      "572. Processing City Number: 3105748 | City: villablino \n",
      "573. Processing City Number: 5961417 | City: gimli \n",
      "574. Processing City Number: 2147714 | City: sydney \n",
      "575. Processing City Number: 2145875 | City: tumut \n",
      "576. Processing City Number: 371745 | City: kutum \n",
      "577. Processing City Number: 2123278 | City: milkovo \n",
      "578. Processing City Number: 2132606 | City: samarai \n",
      "579. Processing City Number: 1502697 | City: kondinskoye \n",
      "580. Processing City Number: 3531368 | City: celestun \n",
      "581. Processing City Number: 2647178 | City: helensburgh \n",
      "582. Processing City Number: 5495360 | City: tucumcari \n",
      "*** ERROR PROCESSING CITY tunduru\n",
      "584. Processing City Number: 3421193 | City: paamiut \n",
      "585. Processing City Number: 1254709 | City: tezu \n",
      "586. Processing City Number: 3402648 | City: carutapera \n",
      "587. Processing City Number: 2287778 | City: jacqueville \n",
      "588. Processing City Number: 2025456 | City: chernyshevskiy \n",
      "589. Processing City Number: 1815656 | City: changli \n",
      "590. Processing City Number: 4012707 | City: cosala \n",
      "591. Processing City Number: 2126785 | City: belaya gora \n",
      "592. Processing City Number: 1214488 | City: meulaboh \n",
      "593. Processing City Number: 2882588 | City: kulmbach \n",
      "594. Processing City Number: 2191562 | City: dunedin \n",
      "595. Processing City Number: 363885 | City: wau \n",
      "596. Processing City Number: 634093 | City: tornio \n",
      "597. Processing City Number: 5611730 | City: weiser \n",
      "598. Processing City Number: 1263968 | City: manali \n",
      "*** ERROR PROCESSING CITY aporawan\n",
      "600. Processing City Number: 2165087 | City: gold coast \n",
      "601. Processing City Number: 2234339 | City: betare oya \n",
      "602. Processing City Number: 3398428 | City: humberto de campos \n",
      "603. Processing City Number: 1056899 | City: sambava \n",
      "604. Processing City Number: 336454 | City: ginir \n",
      "605. Processing City Number: 2167426 | City: emerald \n",
      "606. Processing City Number: 1337605 | City: mahibadhoo \n",
      "607. Processing City Number: 3374333 | City: praya \n",
      "608. Processing City Number: 1735634 | City: kuching \n",
      "609. Processing City Number: 932987 | City: tsabong \n",
      "610. Processing City Number: 7671223 | City: kloulklubed \n",
      "611. Processing City Number: 3653967 | City: muisne \n",
      "612. Processing City Number: 2634739 | City: warrington \n",
      "--- PROCESSING COMPLETE ---\n",
      "Successfully Processed: 561\n",
      "    Errors Encountered: 51\n"
     ]
    }
   ],
   "source": [
    "url = \"http://api.openweathermap.org/data/2.5/weather?\"\n",
    "units = \"imperial\"\n",
    "\n",
    "# Build partial query URL\n",
    "query_url = f\"{url}appid={weather_api_key}&units={units}&q=\"\n",
    "\n",
    "# set up lists to hold reponse info\n",
    "city_l = []\n",
    "country = []\n",
    "datetime = []\n",
    "#ids = []\n",
    "lat = []\n",
    "long = []\n",
    "#temp = []\n",
    "maxtemp = []\n",
    "humidity = []\n",
    "cloudiness = []\n",
    "windspeed = []\n",
    "\n",
    "errors = 0\n",
    "processed = 0\n",
    "n=0\n",
    "\n",
    "#cities = ['chicago','isangel','talara']\n",
    "\n",
    "############################################################################\n",
    "##\n",
    "##  NEED TO CHANGE THE LIMIT TO PROCESS ALL WHEN DONE TESTING\n",
    "##\n",
    "############################################################################\n",
    "\n",
    "#for city in cities[:100]:\n",
    "for city in cities:\n",
    "    n += 1 \n",
    "    try:\n",
    "        response = requests.get(query_url + city).json()\n",
    "        print(f\"{n}. Processing City Number: {response['id']} | City: {city} \")\n",
    "        city_l.append(response['name'])\n",
    "        country.append(response['sys']['country'])\n",
    "        datetime.append(response['dt'])\n",
    "        #ids.append(response['id'])\n",
    "        lat.append(response['coord']['lat'])\n",
    "        long.append(response['coord']['lon'])\n",
    "        #temp.append(response['main']['temp'])\n",
    "        maxtemp.append(response['main']['temp_max'])\n",
    "        humidity.append(response['main']['humidity'])\n",
    "        cloudiness.append(response['clouds']['all'])\n",
    "        windspeed.append(response['wind']['speed'])\n",
    "        processed +=1\n",
    "        #time.sleep(1)\n",
    "    except:\n",
    "        print(f\"*** ERROR PROCESSING CITY {city}\")\n",
    "        errors +=1\n",
    "    time.sleep(1)\n",
    "    \n",
    "\n",
    "print(\"--- PROCESSING COMPLETE ---\")\n",
    "print(f\"Successfully Processed: {processed}\")\n",
    "print(f\"    Errors Encountered: {errors}\")"
   ]
  },
  {
   "cell_type": "markdown",
   "metadata": {},
   "source": [
    "### Convert Raw Data to DataFrame\n",
    "* Export the city data into a .csv.\n",
    "* Display the DataFrame"
   ]
  },
  {
   "cell_type": "code",
   "execution_count": 4,
   "metadata": {},
   "outputs": [
    {
     "data": {
      "text/html": [
       "<div>\n",
       "<style scoped>\n",
       "    .dataframe tbody tr th:only-of-type {\n",
       "        vertical-align: middle;\n",
       "    }\n",
       "\n",
       "    .dataframe tbody tr th {\n",
       "        vertical-align: top;\n",
       "    }\n",
       "\n",
       "    .dataframe thead th {\n",
       "        text-align: right;\n",
       "    }\n",
       "</style>\n",
       "<table border=\"1\" class=\"dataframe\">\n",
       "  <thead>\n",
       "    <tr style=\"text-align: right;\">\n",
       "      <th></th>\n",
       "      <th>city</th>\n",
       "      <th>country</th>\n",
       "      <th>datetime</th>\n",
       "      <th>lat</th>\n",
       "      <th>long</th>\n",
       "      <th>maxtemp</th>\n",
       "      <th>humidity</th>\n",
       "      <th>cloudiness</th>\n",
       "      <th>windspeed</th>\n",
       "    </tr>\n",
       "  </thead>\n",
       "  <tbody>\n",
       "    <tr>\n",
       "      <th>0</th>\n",
       "      <td>Punta Arenas</td>\n",
       "      <td>CL</td>\n",
       "      <td>1633488223</td>\n",
       "      <td>-53.1500</td>\n",
       "      <td>-70.9167</td>\n",
       "      <td>42.91</td>\n",
       "      <td>61</td>\n",
       "      <td>0</td>\n",
       "      <td>12.66</td>\n",
       "    </tr>\n",
       "    <tr>\n",
       "      <th>1</th>\n",
       "      <td>Ushuaia</td>\n",
       "      <td>AR</td>\n",
       "      <td>1633488224</td>\n",
       "      <td>-54.8000</td>\n",
       "      <td>-68.3000</td>\n",
       "      <td>38.86</td>\n",
       "      <td>60</td>\n",
       "      <td>0</td>\n",
       "      <td>6.91</td>\n",
       "    </tr>\n",
       "    <tr>\n",
       "      <th>2</th>\n",
       "      <td>Bluff</td>\n",
       "      <td>NZ</td>\n",
       "      <td>1633488225</td>\n",
       "      <td>-46.6000</td>\n",
       "      <td>168.3333</td>\n",
       "      <td>65.80</td>\n",
       "      <td>80</td>\n",
       "      <td>100</td>\n",
       "      <td>7.94</td>\n",
       "    </tr>\n",
       "    <tr>\n",
       "      <th>3</th>\n",
       "      <td>Santa Maria</td>\n",
       "      <td>BR</td>\n",
       "      <td>1633488227</td>\n",
       "      <td>-29.6842</td>\n",
       "      <td>-53.8069</td>\n",
       "      <td>58.30</td>\n",
       "      <td>77</td>\n",
       "      <td>0</td>\n",
       "      <td>8.05</td>\n",
       "    </tr>\n",
       "    <tr>\n",
       "      <th>4</th>\n",
       "      <td>Mutare</td>\n",
       "      <td>ZW</td>\n",
       "      <td>1633488228</td>\n",
       "      <td>-18.9707</td>\n",
       "      <td>32.6709</td>\n",
       "      <td>60.37</td>\n",
       "      <td>95</td>\n",
       "      <td>55</td>\n",
       "      <td>3.69</td>\n",
       "    </tr>\n",
       "  </tbody>\n",
       "</table>\n",
       "</div>"
      ],
      "text/plain": [
       "           city country    datetime      lat      long  maxtemp  humidity  \\\n",
       "0  Punta Arenas      CL  1633488223 -53.1500  -70.9167    42.91        61   \n",
       "1       Ushuaia      AR  1633488224 -54.8000  -68.3000    38.86        60   \n",
       "2         Bluff      NZ  1633488225 -46.6000  168.3333    65.80        80   \n",
       "3   Santa Maria      BR  1633488227 -29.6842  -53.8069    58.30        77   \n",
       "4        Mutare      ZW  1633488228 -18.9707   32.6709    60.37        95   \n",
       "\n",
       "   cloudiness  windspeed  \n",
       "0           0      12.66  \n",
       "1           0       6.91  \n",
       "2         100       7.94  \n",
       "3           0       8.05  \n",
       "4          55       3.69  "
      ]
     },
     "execution_count": 4,
     "metadata": {},
     "output_type": "execute_result"
    }
   ],
   "source": [
    "# create a data frame\n",
    "weather_dict = {\n",
    "    \"city\": city_l,\n",
    "    \"country\": country, \n",
    "    \"datetime\": datetime,\n",
    "    #\"id\": ids,\n",
    "    \"lat\": lat,\n",
    "    \"long\": long,\n",
    "    #\"temp\": temp,\n",
    "    \"maxtemp\" : maxtemp,\n",
    "    \"humidity\": humidity,\n",
    "    \"cloudiness\": cloudiness,\n",
    "    \"windspeed\": windspeed}\n",
    "    \n",
    "#print(len(city_l))\n",
    "#print(len(country))\n",
    "#print(len(datetime))\n",
    "#print(len(ids))\n",
    "#print(len(lat))\n",
    "#print(len(long))\n",
    "#print(len(temp))\n",
    "#print(len(humidity))\n",
    "#print(len(cloudiness))\n",
    "#print(len(windspeed))\n",
    "weather_data = pd.DataFrame(weather_dict)\n",
    "weather_data.to_csv(output_data_file, encoding=\"utf-8\", index=False)\n",
    "weather_data.head()"
   ]
  },
  {
   "cell_type": "code",
   "execution_count": null,
   "metadata": {},
   "outputs": [],
   "source": []
  },
  {
   "cell_type": "markdown",
   "metadata": {},
   "source": [
    "## Inspect the data and remove the cities where the humidity > 100%.\n",
    "----\n",
    "Skip this step if there are no cities that have humidity > 100%. "
   ]
  },
  {
   "cell_type": "code",
   "execution_count": 5,
   "metadata": {},
   "outputs": [
    {
     "data": {
      "text/plain": [
       "100"
      ]
     },
     "execution_count": 5,
     "metadata": {},
     "output_type": "execute_result"
    }
   ],
   "source": [
    "weather_data[\"humidity\"].max()"
   ]
  },
  {
   "cell_type": "code",
   "execution_count": 6,
   "metadata": {},
   "outputs": [
    {
     "data": {
      "text/html": [
       "<div>\n",
       "<style scoped>\n",
       "    .dataframe tbody tr th:only-of-type {\n",
       "        vertical-align: middle;\n",
       "    }\n",
       "\n",
       "    .dataframe tbody tr th {\n",
       "        vertical-align: top;\n",
       "    }\n",
       "\n",
       "    .dataframe thead th {\n",
       "        text-align: right;\n",
       "    }\n",
       "</style>\n",
       "<table border=\"1\" class=\"dataframe\">\n",
       "  <thead>\n",
       "    <tr style=\"text-align: right;\">\n",
       "      <th></th>\n",
       "      <th>city</th>\n",
       "      <th>country</th>\n",
       "      <th>datetime</th>\n",
       "      <th>lat</th>\n",
       "      <th>long</th>\n",
       "      <th>maxtemp</th>\n",
       "      <th>humidity</th>\n",
       "      <th>cloudiness</th>\n",
       "      <th>windspeed</th>\n",
       "    </tr>\n",
       "  </thead>\n",
       "  <tbody>\n",
       "  </tbody>\n",
       "</table>\n",
       "</div>"
      ],
      "text/plain": [
       "Empty DataFrame\n",
       "Columns: [city, country, datetime, lat, long, maxtemp, humidity, cloudiness, windspeed]\n",
       "Index: []"
      ]
     },
     "execution_count": 6,
     "metadata": {},
     "output_type": "execute_result"
    }
   ],
   "source": [
    "#  Get the indices of cities that have humidity over 100%.\n",
    "invalid_data = weather_data[weather_data[\"humidity\"] > 100]\n",
    "invalid_data"
   ]
  },
  {
   "cell_type": "code",
   "execution_count": 7,
   "metadata": {},
   "outputs": [
    {
     "name": "stdout",
     "output_type": "stream",
     "text": [
      "# of Rows in Data Frame BEFORE: 561\n",
      "# of Rows in Data Frame AFTER: 561\n"
     ]
    }
   ],
   "source": [
    "# Make a new DataFrame equal to the city data to drop all humidity outliers by index.\n",
    "# Passing \"inplace=False\" will make a copy of the city_data DataFrame, which we call \"clean_city_data\".\n",
    "print(f\"# of Rows in Data Frame BEFORE: {len(weather_data)}\")\n",
    "clean_weather_data = weather_data[weather_data[\"humidity\"] <= 100]\n",
    "print(f\"# of Rows in Data Frame AFTER: {len(clean_weather_data)}\")"
   ]
  },
  {
   "cell_type": "code",
   "execution_count": null,
   "metadata": {},
   "outputs": [],
   "source": [
    "\n"
   ]
  },
  {
   "cell_type": "markdown",
   "metadata": {},
   "source": [
    "## Plotting the Data\n",
    "* Use proper labeling of the plots using plot titles (including date of analysis) and axes labels.\n",
    "* Save the plotted figures as .pngs."
   ]
  },
  {
   "cell_type": "markdown",
   "metadata": {},
   "source": [
    "## Latitude vs. Temperature Plot"
   ]
  },
  {
   "cell_type": "code",
   "execution_count": 8,
   "metadata": {
    "scrolled": true
   },
   "outputs": [
    {
     "data": {
      "image/png": "[encoded data removed]",
      "text/plain": [
       "<Figure size 432x288 with 1 Axes>"
      ]
     },
     "metadata": {
      "needs_background": "light"
     },
     "output_type": "display_data"
    }
   ],
   "source": [
    "x_values = clean_weather_data['lat']\n",
    "y_values = clean_weather_data['maxtemp']\n",
    "plt.scatter(x_values,y_values)\n",
    "plt.title('Latitude vs. Temperature Plot')\n",
    "plt.xlabel('Latitude')\n",
    "plt.ylabel('Temperature')\n",
    "plt.savefig('images/LatVsTemp.png')\n",
    "plt.show()"
   ]
  },
  {
   "cell_type": "markdown",
   "metadata": {},
   "source": [
    "## Latitude vs. Humidity Plot"
   ]
  },
  {
   "cell_type": "code",
   "execution_count": 9,
   "metadata": {},
   "outputs": [
    {
     "data": {
      "image/png": "[encoded data removed]",
      "text/plain": [
       "<Figure size 432x288 with 1 Axes>"
      ]
     },
     "metadata": {
      "needs_background": "light"
     },
     "output_type": "display_data"
    }
   ],
   "source": [
    "x_values = clean_weather_data['lat']\n",
    "y_values = clean_weather_data['humidity']\n",
    "plt.scatter(x_values,y_values)\n",
    "plt.title('Latitude vs. Humidity Plot')\n",
    "plt.xlabel('Latitude')\n",
    "plt.ylabel('Humidity')\n",
    "plt.savefig('images/LatVsHum.png')\n",
    "plt.show()"
   ]
  },
  {
   "cell_type": "markdown",
   "metadata": {},
   "source": [
    "## Latitude vs. Cloudiness Plot"
   ]
  },
  {
   "cell_type": "code",
   "execution_count": 10,
   "metadata": {},
   "outputs": [
    {
     "data": {
      "image/png": "[encoded data removed]",
      "text/plain": [
       "<Figure size 432x288 with 1 Axes>"
      ]
     },
     "metadata": {
      "needs_background": "light"
     },
     "output_type": "display_data"
    }
   ],
   "source": [
    "x_values = clean_weather_data['lat']\n",
    "y_values = clean_weather_data['cloudiness']\n",
    "plt.scatter(x_values,y_values)\n",
    "plt.title('Latitude vs. Cloudiness Plot')\n",
    "plt.xlabel('Latitude')\n",
    "plt.ylabel('Cloudiness')\n",
    "plt.savefig('images/LatVsCloud.png')\n",
    "plt.show()"
   ]
  },
  {
   "cell_type": "markdown",
   "metadata": {},
   "source": [
    "## Latitude vs. Wind Speed Plot"
   ]
  },
  {
   "cell_type": "code",
   "execution_count": 11,
   "metadata": {},
   "outputs": [
    {
     "data": {
      "image/png": "[encoded data removed]",
      "text/plain": [
       "<Figure size 432x288 with 1 Axes>"
      ]
     },
     "metadata": {
      "needs_background": "light"
     },
     "output_type": "display_data"
    }
   ],
   "source": [
    "x_values = clean_weather_data['lat']\n",
    "y_values = clean_weather_data['windspeed']\n",
    "plt.scatter(x_values,y_values)\n",
    "plt.title('Latitude vs. Wind Speed')\n",
    "plt.xlabel('Latitude')\n",
    "plt.ylabel('Wind Speed')\n",
    "plt.savefig('images/LatVsWind.png')\n",
    "plt.show()"
   ]
  },
  {
   "cell_type": "markdown",
   "metadata": {},
   "source": [
    "## Linear Regression"
   ]
  },
  {
   "cell_type": "code",
   "execution_count": 12,
   "metadata": {},
   "outputs": [
    {
     "data": {
      "text/html": [
       "<div>\n",
       "<style scoped>\n",
       "    .dataframe tbody tr th:only-of-type {\n",
       "        vertical-align: middle;\n",
       "    }\n",
       "\n",
       "    .dataframe tbody tr th {\n",
       "        vertical-align: top;\n",
       "    }\n",
       "\n",
       "    .dataframe thead th {\n",
       "        text-align: right;\n",
       "    }\n",
       "</style>\n",
       "<table border=\"1\" class=\"dataframe\">\n",
       "  <thead>\n",
       "    <tr style=\"text-align: right;\">\n",
       "      <th></th>\n",
       "      <th>city</th>\n",
       "      <th>country</th>\n",
       "      <th>datetime</th>\n",
       "      <th>lat</th>\n",
       "      <th>long</th>\n",
       "      <th>maxtemp</th>\n",
       "      <th>humidity</th>\n",
       "      <th>cloudiness</th>\n",
       "      <th>windspeed</th>\n",
       "    </tr>\n",
       "  </thead>\n",
       "  <tbody>\n",
       "  </tbody>\n",
       "</table>\n",
       "</div>"
      ],
      "text/plain": [
       "Empty DataFrame\n",
       "Columns: [city, country, datetime, lat, long, maxtemp, humidity, cloudiness, windspeed]\n",
       "Index: []"
      ]
     },
     "execution_count": 12,
     "metadata": {},
     "output_type": "execute_result"
    }
   ],
   "source": [
    "n_hemisphere = clean_weather_data.loc[weather_data[\"lat\"] > 0]\n",
    "s_hemisphere = clean_weather_data.loc[weather_data[\"lat\"] < 0]\n",
    "equator = clean_weather_data.loc[weather_data[\"lat\"] == 0]\n",
    "\n",
    "# Confirm no city is on the equator\n",
    "equator"
   ]
  },
  {
   "cell_type": "markdown",
   "metadata": {},
   "source": [
    "####  Northern Hemisphere - Max Temp vs. Latitude Linear Regression"
   ]
  },
  {
   "cell_type": "code",
   "execution_count": 13,
   "metadata": {},
   "outputs": [
    {
     "data": {
      "image/png": "[encoded data removed]",
      "text/plain": [
       "<Figure size 432x288 with 1 Axes>"
      ]
     },
     "metadata": {
      "needs_background": "light"
     },
     "output_type": "display_data"
    },
    {
     "name": "stdout",
     "output_type": "stream",
     "text": [
      "The correlation is -0.85\n"
     ]
    }
   ],
   "source": [
    "x_values = n_hemisphere['lat']\n",
    "y_values = n_hemisphere['maxtemp']\n",
    "plt.scatter(x_values,y_values)\n",
    "plt.title('Northern Hemisphere - Max Temp vs. Latitude')\n",
    "plt.xlabel('Latitude')\n",
    "plt.ylabel('Max Temperature')\n",
    "#plt.show()\n",
    "\n",
    "# Perform a linear regression on temperature vs. latitude\n",
    "(slope, intercept, rvalue, pvalue, stderr) = linregress(x_values, y_values)\n",
    "# Get regression values\n",
    "regress_values = x_values * slope + intercept\n",
    "line_eq = \"y = \" + str(round(slope,2)) + \"x +\" + str(round(intercept,2))\n",
    "plt.plot(x_values,regress_values,\"r-\")\n",
    "#plt.annotate(line_eq,(10,25),fontsize=15,color=\"red\")\n",
    "plt.savefig('images/NHem-MTempVsLat.png')\n",
    "plt.show()\n",
    "correlation = st.pearsonr(x_values,y_values)\n",
    "print(f\"The correlation is {round(correlation[0],2)}\")"
   ]
  },
  {
   "cell_type": "markdown",
   "metadata": {},
   "source": [
    "####  Southern Hemisphere - Max Temp vs. Latitude Linear Regression"
   ]
  },
  {
   "cell_type": "code",
   "execution_count": 14,
   "metadata": {},
   "outputs": [
    {
     "data": {
      "image/png": "[encoded data removed]",
      "text/plain": [
       "<Figure size 432x288 with 1 Axes>"
      ]
     },
     "metadata": {
      "needs_background": "light"
     },
     "output_type": "display_data"
    },
    {
     "name": "stdout",
     "output_type": "stream",
     "text": [
      "The correlation is 0.7\n"
     ]
    }
   ],
   "source": [
    "x_values = s_hemisphere['lat']\n",
    "y_values = s_hemisphere['maxtemp']\n",
    "plt.scatter(x_values,y_values)\n",
    "plt.title('Southern Hemisphere - Max Temp vs. Latitude')\n",
    "plt.xlabel('Latitude')\n",
    "plt.ylabel('Max Temperature')\n",
    "\n",
    "# Perform a linear regression on temperature vs. latitude\n",
    "(slope, intercept, rvalue, pvalue, stderr) = linregress(x_values, y_values)\n",
    "# Get regression values\n",
    "regress_values = x_values * slope + intercept\n",
    "line_eq = \"y = \" + str(round(slope,2)) + \"x +\" + str(round(intercept,2))\n",
    "plt.plot(x_values,regress_values,\"r-\")\n",
    "#plt.annotate(line_eq,(-25,45),fontsize=15,color=\"red\")\n",
    "plt.savefig('images/SHem-MTempVsLat.png')\n",
    "plt.show()\n",
    "correlation = st.pearsonr(x_values,y_values)\n",
    "print(f\"The correlation is {round(correlation[0],2)}\")"
   ]
  },
  {
   "cell_type": "markdown",
   "metadata": {},
   "source": [
    "####  Northern Hemisphere - Humidity (%) vs. Latitude Linear Regression"
   ]
  },
  {
   "cell_type": "code",
   "execution_count": 15,
   "metadata": {},
   "outputs": [
    {
     "data": {
      "image/png": "[encoded data removed]",
      "text/plain": [
       "<Figure size 432x288 with 1 Axes>"
      ]
     },
     "metadata": {
      "needs_background": "light"
     },
     "output_type": "display_data"
    },
    {
     "name": "stdout",
     "output_type": "stream",
     "text": [
      "The correlation is 0.01\n"
     ]
    }
   ],
   "source": [
    "x_values = n_hemisphere['lat']\n",
    "y_values = n_hemisphere['humidity']\n",
    "plt.scatter(x_values,y_values)\n",
    "plt.title('Northern Hemisphere - Humidity (%) vs. Latitude')\n",
    "plt.xlabel('Latitude')\n",
    "plt.ylabel('Humidity')\n",
    "\n",
    "# Perform a linear regression on temperature vs. latitude\n",
    "(slope, intercept, rvalue, pvalue, stderr) = linregress(x_values, y_values)\n",
    "# Get regression values\n",
    "regress_values = x_values * slope + intercept\n",
    "line_eq = \"y = \" + str(round(slope,2)) + \"x +\" + str(round(intercept,2))\n",
    "plt.plot(x_values,regress_values,\"r-\")\n",
    "#plt.annotate(line_eq,(45,15),fontsize=15,color=\"red\")\n",
    "plt.savefig('images/NHem-HumidVsLat.png')\n",
    "plt.show()\n",
    "correlation = st.pearsonr(x_values,y_values)\n",
    "print(f\"The correlation is {round(correlation[0],2)}\")"
   ]
  },
  {
   "cell_type": "markdown",
   "metadata": {},
   "source": [
    "####  Southern Hemisphere - Humidity (%) vs. Latitude Linear Regression"
   ]
  },
  {
   "cell_type": "code",
   "execution_count": 16,
   "metadata": {},
   "outputs": [
    {
     "data": {
      "image/png": "[encoded data removed]",
      "text/plain": [
       "<Figure size 432x288 with 1 Axes>"
      ]
     },
     "metadata": {
      "needs_background": "light"
     },
     "output_type": "display_data"
    },
    {
     "name": "stdout",
     "output_type": "stream",
     "text": [
      "The correlation is 0.13\n"
     ]
    }
   ],
   "source": [
    "x_values = s_hemisphere['lat']\n",
    "y_values = s_hemisphere['humidity']\n",
    "plt.scatter(x_values,y_values)\n",
    "plt.title('Southern Hemisphere - Humidity (%) vs. Latitude')\n",
    "plt.xlabel('Latitude')\n",
    "plt.ylabel('Humidity')\n",
    "# Perform a linear regression on temperature vs. latitude\n",
    "(slope, intercept, rvalue, pvalue, stderr) = linregress(x_values, y_values)\n",
    "# Get regression values\n",
    "regress_values = x_values * slope + intercept\n",
    "line_eq = \"y = \" + str(round(slope,2)) + \"x +\" + str(round(intercept,2))\n",
    "plt.plot(x_values,regress_values,\"r-\")\n",
    "#plt.annotate(line_eq,(-25,25),fontsize=15,color=\"red\")\n",
    "plt.savefig('images/SHem-HumidVsLat.png')\n",
    "plt.show()\n",
    "correlation = st.pearsonr(x_values,y_values)\n",
    "print(f\"The correlation is {round(correlation[0],2)}\")"
   ]
  },
  {
   "cell_type": "markdown",
   "metadata": {},
   "source": [
    "####  Northern Hemisphere - Cloudiness (%) vs. Latitude Linear Regression"
   ]
  },
  {
   "cell_type": "code",
   "execution_count": 17,
   "metadata": {},
   "outputs": [
    {
     "data": {
      "image/png": "[encoded data removed]",
      "text/plain": [
       "<Figure size 432x288 with 1 Axes>"
      ]
     },
     "metadata": {
      "needs_background": "light"
     },
     "output_type": "display_data"
    },
    {
     "name": "stdout",
     "output_type": "stream",
     "text": [
      "The correlation is 0.1\n"
     ]
    }
   ],
   "source": [
    "x_values = n_hemisphere['lat']\n",
    "y_values = n_hemisphere['cloudiness']\n",
    "plt.scatter(x_values,y_values)\n",
    "plt.title('Northern Hemisphere - Cloudiness (%) vs. Latitude')\n",
    "plt.xlabel('Latitude')\n",
    "plt.ylabel('Cloudiness')\n",
    "# Perform a linear regression on temperature vs. latitude\n",
    "(slope, intercept, rvalue, pvalue, stderr) = linregress(x_values, y_values)\n",
    "# Get regression values\n",
    "regress_values = x_values * slope + intercept\n",
    "line_eq = \"y = \" + str(round(slope,2)) + \"x +\" + str(round(intercept,2))\n",
    "plt.plot(x_values,regress_values,\"r-\")\n",
    "#plt.annotate(line_eq,(25,30),fontsize=15,color=\"red\")\n",
    "plt.savefig('images/NHem-CloudVsLat.png')\n",
    "plt.show()\n",
    "correlation = st.pearsonr(x_values,y_values)\n",
    "print(f\"The correlation is {round(correlation[0],2)}\")"
   ]
  },
  {
   "cell_type": "markdown",
   "metadata": {},
   "source": [
    "####  Southern Hemisphere - Cloudiness (%) vs. Latitude Linear Regression"
   ]
  },
  {
   "cell_type": "code",
   "execution_count": 18,
   "metadata": {},
   "outputs": [
    {
     "data": {
      "image/png": "[encoded data removed]",
      "text/plain": [
       "<Figure size 432x288 with 1 Axes>"
      ]
     },
     "metadata": {
      "needs_background": "light"
     },
     "output_type": "display_data"
    },
    {
     "name": "stdout",
     "output_type": "stream",
     "text": [
      "The correlation is 0.28\n"
     ]
    }
   ],
   "source": [
    "x_values = s_hemisphere['lat']\n",
    "y_values = s_hemisphere['cloudiness']\n",
    "plt.scatter(x_values,y_values)\n",
    "plt.title('Southern Hemisphere - Cloudiness (%) vs. Latitude')\n",
    "plt.xlabel('Latitude')\n",
    "plt.ylabel('Cloudiness')\n",
    "\n",
    "# Perform a linear regression on temperature vs. latitude\n",
    "(slope, intercept, rvalue, pvalue, stderr) = linregress(x_values, y_values)\n",
    "# Get regression values\n",
    "regress_values = x_values * slope + intercept\n",
    "line_eq = \"y = \" + str(round(slope,2)) + \"x +\" + str(round(intercept,2))\n",
    "plt.plot(x_values,regress_values,\"r-\")\n",
    "#plt.annotate(line_eq,(-30,25),fontsize=15,color=\"red\")\n",
    "plt.savefig('images/SHem-CloudVsLat.png')\n",
    "plt.show()\n",
    "correlation = st.pearsonr(x_values,y_values)\n",
    "print(f\"The correlation is {round(correlation[0],2)}\")"
   ]
  },
  {
   "cell_type": "markdown",
   "metadata": {},
   "source": [
    "####  Northern Hemisphere - Wind Speed (mph) vs. Latitude Linear Regression"
   ]
  },
  {
   "cell_type": "code",
   "execution_count": 19,
   "metadata": {},
   "outputs": [
    {
     "data": {
      "image/png": "[encoded data removed]",
      "text/plain": [
       "<Figure size 432x288 with 1 Axes>"
      ]
     },
     "metadata": {
      "needs_background": "light"
     },
     "output_type": "display_data"
    },
    {
     "name": "stdout",
     "output_type": "stream",
     "text": [
      "The correlation is 0.19\n"
     ]
    }
   ],
   "source": [
    "x_values = n_hemisphere['lat']\n",
    "y_values = n_hemisphere['windspeed']\n",
    "plt.scatter(x_values,y_values)\n",
    "plt.title('Northern Hemisphere - Wind Speed (mph) vs. Latitude')\n",
    "plt.xlabel('Latitude')\n",
    "plt.ylabel('Wind Speed (mph)')\n",
    "\n",
    "# Perform a linear regression on temperature vs. latitude\n",
    "(slope, intercept, rvalue, pvalue, stderr) = linregress(x_values, y_values)\n",
    "# Get regression values\n",
    "regress_values = x_values * slope + intercept\n",
    "line_eq = \"y = \" + str(round(slope,2)) + \"x +\" + str(round(intercept,2))\n",
    "plt.plot(x_values,regress_values,\"r-\")\n",
    "#plt.annotate(line_eq,(35,15),fontsize=15,color=\"red\")\n",
    "plt.savefig('images/NHem-WindVsLat.png')\n",
    "plt.show()\n",
    "correlation = st.pearsonr(x_values,y_values)\n",
    "print(f\"The correlation is {round(correlation[0],2)}\")"
   ]
  },
  {
   "cell_type": "markdown",
   "metadata": {},
   "source": [
    "####  Southern Hemisphere - Wind Speed (mph) vs. Latitude Linear Regression"
   ]
  },
  {
   "cell_type": "code",
   "execution_count": 20,
   "metadata": {},
   "outputs": [
    {
     "data": {
      "image/png": "[encoded data removed]",
      "text/plain": [
       "<Figure size 432x288 with 1 Axes>"
      ]
     },
     "metadata": {
      "needs_background": "light"
     },
     "output_type": "display_data"
    },
    {
     "name": "stdout",
     "output_type": "stream",
     "text": [
      "The correlation is -0.15\n"
     ]
    }
   ],
   "source": [
    "x_values = s_hemisphere['lat']\n",
    "y_values = s_hemisphere['windspeed']\n",
    "plt.scatter(x_values,y_values)\n",
    "plt.title('Southern Hemisphere - Wind Speed (mph) vs. Latitude')\n",
    "plt.xlabel('Latitude')\n",
    "plt.ylabel('Wind Speed (mph)')\n",
    "\n",
    "# Perform a linear regression on temperature vs. latitude\n",
    "(slope, intercept, rvalue, pvalue, stderr) = linregress(x_values, y_values)\n",
    "# Get regression values\n",
    "regress_values = x_values * slope + intercept\n",
    "line_eq = \"y = \" + str(round(slope,2)) + \"x +\" + str(round(intercept,2))\n",
    "plt.plot(x_values,regress_values,\"r-\")\n",
    "#plt.annotate(line_eq,(-25,20),fontsize=15,color=\"red\")\n",
    "plt.savefig('images/SHem-WindVsLat.png')\n",
    "plt.show()\n",
    "correlation = st.pearsonr(x_values,y_values)\n",
    "print(f\"The correlation is {round(correlation[0],2)}\")"
   ]
  },
  {
   "cell_type": "code",
   "execution_count": null,
   "metadata": {},
   "outputs": [],
   "source": []
  },
  {
   "cell_type": "code",
   "execution_count": null,
   "metadata": {},
   "outputs": [],
   "source": []
  }
 ],
 "metadata": {
  "anaconda-cloud": {},
  "kernel_info": {
   "name": "python3"
  },
  "kernelspec": {
   "display_name": "Python 3",
   "language": "python",
   "name": "python3"
  },
  "language_info": {
   "codemirror_mode": {
    "name": "ipython",
    "version": 3
   },
   "file_extension": ".py",
   "mimetype": "text/x-python",
   "name": "python",
   "nbconvert_exporter": "python",
   "pygments_lexer": "ipython3",
   "version": "3.8.8"
  },
  "latex_envs": {
   "LaTeX_envs_menu_present": true,
   "autoclose": false,
   "autocomplete": true,
   "bibliofile": "biblio.bib",
   "cite_by": "apalike",
   "current_citInitial": 1,
   "eqLabelWithNumbers": true,
   "eqNumInitial": 1,
   "hotkeys": {
    "equation": "Ctrl-E",
    "itemize": "Ctrl-I"
   },
   "labels_anchors": false,
   "latex_user_defs": false,
   "report_style_numbering": false,
   "user_envs_cfg": false
  },
  "nteract": {
   "version": "0.12.3"
  }
 },
 "nbformat": 4,
 "nbformat_minor": 2
}
