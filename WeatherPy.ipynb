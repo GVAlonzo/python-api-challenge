{
 "cells": [
  {
   "cell_type": "markdown",
   "metadata": {},
   "source": [
    "# WeatherPy\n",
    "----\n",
    "\n",
    "#### Note\n",
    "* Instructions have been included for each segment. You do not have to follow them exactly, but they are included to help you think through the steps."
   ]
  },
  {
   "cell_type": "code",
   "execution_count": 1,
   "metadata": {
    "scrolled": true
   },
   "outputs": [],
   "source": [
    "###################################################################################\n",
    "##\n",
    "##  Python API Homework - What's the Weather Like\n",
    "##        Part I - WeatherPY\n",
    "##\n",
    "##\n",
    "##          Author: George Alonzo\n",
    "##        Due Date: October 9, 2021\n",
    "##\n",
    "###################################################################################\n",
    "\n",
    "# Dependencies and Setup\n",
    "import matplotlib.pyplot as plt\n",
    "import pandas as pd\n",
    "import numpy as np\n",
    "import requests\n",
    "import time\n",
    "import scipy.stats as st\n",
    "from scipy.stats import linregress\n",
    "\n",
    "# Import API key\n",
    "from api_keys import weather_api_key\n",
    "\n",
    "# Incorporated citipy to determine city based on latitude and longitude\n",
    "from citipy import citipy\n",
    "\n",
    "# Output File (CSV)\n",
    "output_data_file = \"output_data/cities.csv\"\n",
    "\n",
    "# Range of latitudes and longitudes\n",
    "lat_range = (-90, 90)\n",
    "lng_range = (-180, 180)"
   ]
  },
  {
   "cell_type": "markdown",
   "metadata": {},
   "source": [
    "## Generate Cities List"
   ]
  },
  {
   "cell_type": "code",
   "execution_count": 2,
   "metadata": {},
   "outputs": [
    {
     "name": "stdout",
     "output_type": "stream",
     "text": [
      "City Count: 642\n"
     ]
    }
   ],
   "source": [
    "# List for holding lat_lngs and cities\n",
    "lat_lngs = []\n",
    "cities = []\n",
    "\n",
    "# Create a set of random lat and lng combinations\n",
    "lats = np.random.uniform(lat_range[0], lat_range[1], size=1500)\n",
    "lngs = np.random.uniform(lng_range[0], lng_range[1], size=1500)\n",
    "lat_lngs = zip(lats, lngs)\n",
    "\n",
    "# Identify nearest city for each lat, lng combination\n",
    "for lat_lng in lat_lngs:\n",
    "    city = citipy.nearest_city(lat_lng[0], lat_lng[1]).city_name\n",
    "    \n",
    "    # If the city is unique, then add it to a our cities list\n",
    "    if city not in cities:\n",
    "        cities.append(city)\n",
    "\n",
    "# Print the city count to confirm sufficient count\n",
    "print(f\"City Count: {len(cities)}\")"
   ]
  },
  {
   "cell_type": "markdown",
   "metadata": {},
   "source": [
    "### Perform API Calls\n",
    "* Perform a weather check on each city using a series of successive API calls.\n",
    "* Include a print log of each city as it'sbeing processed (with the city number and city name).\n"
   ]
  },
  {
   "cell_type": "code",
   "execution_count": 3,
   "metadata": {
    "scrolled": true
   },
   "outputs": [
    {
     "name": "stdout",
     "output_type": "stream",
     "text": [
      "1. Processing City Number: 2094144 | City: kerema \n",
      "2. Processing City Number: 3430863 | City: mar del plata \n",
      "3. Processing City Number: 1267390 | City: kavaratti \n",
      "4. Processing City Number: 5557293 | City: sitka \n",
      "5. Processing City Number: 3833367 | City: ushuaia \n",
      "6. Processing City Number: 2126123 | City: chokurdakh \n",
      "7. Processing City Number: 3831208 | City: qaanaaq \n",
      "8. Processing City Number: 5880054 | City: barrow \n",
      "9. Processing City Number: 1045114 | City: inhambane \n",
      "10. Processing City Number: 4020109 | City: atuona \n",
      "11. Processing City Number: 3421319 | City: nuuk \n",
      "12. Processing City Number: 3347019 | City: namibe \n",
      "13. Processing City Number: 3361934 | City: saldanha \n",
      "14. Processing City Number: 2172880 | City: byron bay \n",
      "*** ERROR PROCESSING CITY amderma\n",
      "16. Processing City Number: 6170031 | City: tuktoyaktuk \n",
      "17. Processing City Number: 4036284 | City: alofi \n",
      "18. Processing City Number: 1735106 | City: georgetown \n",
      "*** ERROR PROCESSING CITY belushya guba\n",
      "20. Processing City Number: 6201424 | City: mataura \n",
      "21. Processing City Number: 1819729 | City: victoria \n",
      "*** ERROR PROCESSING CITY bargal\n",
      "23. Processing City Number: 6167817 | City: torbay \n",
      "24. Processing City Number: 546105 | City: nikolskoye \n",
      "25. Processing City Number: 5969025 | City: haines junction \n",
      "26. Processing City Number: 3654410 | City: manta \n",
      "*** ERROR PROCESSING CITY barentsburg\n",
      "28. Processing City Number: 174828 | City: malishka \n",
      "29. Processing City Number: 2075265 | City: busselton \n",
      "30. Processing City Number: 3366880 | City: hermanus \n",
      "31. Processing City Number: 3443061 | City: chuy \n",
      "32. Processing City Number: 3628473 | City: san cristobal \n",
      "33. Processing City Number: 4030556 | City: rikitea \n",
      "34. Processing City Number: 1562414 | City: vung tau \n",
      "35. Processing City Number: 3421719 | City: narsaq \n",
      "36. Processing City Number: 4035715 | City: avarua \n",
      "37. Processing City Number: 1644605 | City: galesong \n",
      "38. Processing City Number: 2012956 | City: yerbogachen \n",
      "39. Processing City Number: 2643044 | City: margate \n",
      "40. Processing City Number: 2206939 | City: bluff \n",
      "41. Processing City Number: 964432 | City: port alfred \n",
      "42. Processing City Number: 3391889 | City: pitimbu \n",
      "43. Processing City Number: 3382160 | City: cayenne \n",
      "44. Processing City Number: 5983720 | City: iqaluit \n",
      "*** ERROR PROCESSING CITY talawdi\n",
      "46. Processing City Number: 2074865 | City: carnarvon \n",
      "47. Processing City Number: 1278201 | City: atmakur \n",
      "48. Processing City Number: 5554428 | City: ketchikan \n",
      "49. Processing City Number: 2094342 | City: kavieng \n",
      "50. Processing City Number: 2641598 | City: newport \n",
      "*** ERROR PROCESSING CITY taolanaro\n",
      "52. Processing City Number: 3530913 | City: chietla \n",
      "53. Processing City Number: 965289 | City: pietersburg \n",
      "54. Processing City Number: 1106677 | City: bambous virieux \n",
      "55. Processing City Number: 5855927 | City: hilo \n",
      "56. Processing City Number: 3369157 | City: cape town \n",
      "57. Processing City Number: 3466704 | City: castro \n",
      "58. Processing City Number: 2121385 | City: severo-kurilsk \n",
      "59. Processing City Number: 3403395 | City: candido mendes \n",
      "60. Processing City Number: 2159220 | City: mackay \n",
      "61. Processing City Number: 3355672 | City: luderitz \n",
      "62. Processing City Number: 3893629 | City: coquimbo \n",
      "63. Processing City Number: 6316343 | City: alta floresta \n",
      "64. Processing City Number: 1165789 | City: sehwan \n",
      "65. Processing City Number: 6111862 | City: port hardy \n",
      "66. Processing City Number: 2729907 | City: longyearbyen \n",
      "67. Processing City Number: 3652764 | City: puerto ayora \n",
      "68. Processing City Number: 3386931 | City: tamandare \n",
      "69. Processing City Number: 5106841 | City: albany \n",
      "70. Processing City Number: 3416888 | City: grindavik \n",
      "*** ERROR PROCESSING CITY tawkar\n",
      "72. Processing City Number: 2057087 | City: kupang \n",
      "73. Processing City Number: 2110227 | City: butaritari \n",
      "74. Processing City Number: 5848280 | City: kapaa \n",
      "75. Processing City Number: 3874787 | City: punta arenas \n",
      "76. Processing City Number: 986717 | City: kruisfontein \n",
      "77. Processing City Number: 95788 | City: hit \n",
      "78. Processing City Number: 5122534 | City: jamestown \n",
      "79. Processing City Number: 4148757 | City: brandon \n",
      "80. Processing City Number: 5563397 | City: eureka \n",
      "81. Processing City Number: 5847411 | City: kahului \n",
      "82. Processing City Number: 5145695 | City: amherst \n",
      "83. Processing City Number: 3374210 | City: sao filipe \n",
      "84. Processing City Number: 3146487 | City: raudeberg \n",
      "85. Processing City Number: 613273 | City: lebedyn \n",
      "86. Processing City Number: 2163355 | City: hobart \n",
      "87. Processing City Number: 3893726 | City: constitucion \n",
      "88. Processing City Number: 1503726 | City: kharp \n",
      "*** ERROR PROCESSING CITY tabialan\n",
      "90. Processing City Number: 2132606 | City: samarai \n",
      "91. Processing City Number: 1622318 | City: waingapu \n",
      "92. Processing City Number: 3840092 | City: puerto madryn \n",
      "93. Processing City Number: 2023778 | City: gusinoye ozero \n",
      "94. Processing City Number: 1337610 | City: thinadhoo \n",
      "95. Processing City Number: 5847486 | City: kailua \n",
      "*** ERROR PROCESSING CITY longlac\n",
      "97. Processing City Number: 1513957 | City: hazorasp \n",
      "*** ERROR PROCESSING CITY illoqqortoormiut\n",
      "99. Processing City Number: 3359638 | City: walvis bay \n",
      "*** ERROR PROCESSING CITY mys shmidta\n",
      "*** ERROR PROCESSING CITY attawapiskat\n",
      "102. Processing City Number: 2126199 | City: cherskiy \n",
      "103. Processing City Number: 2120048 | City: ust-nera \n",
      "104. Processing City Number: 866062 | City: iskateley \n",
      "105. Processing City Number: 779622 | City: havoysund \n",
      "106. Processing City Number: 1006984 | City: east london \n",
      "107. Processing City Number: 5859699 | City: college \n",
      "108. Processing City Number: 2142316 | City: yeppoon \n",
      "109. Processing City Number: 5364271 | City: laguna \n",
      "110. Processing City Number: 2173125 | City: burnie \n",
      "111. Processing City Number: 2017155 | City: saskylakh \n",
      "112. Processing City Number: 3424607 | City: tasiilaq \n",
      "*** ERROR PROCESSING CITY vaitupu\n",
      "114. Processing City Number: 5072006 | City: lincoln \n",
      "115. Processing City Number: 2012530 | City: zhigansk \n",
      "116. Processing City Number: 103630 | City: najran \n",
      "117. Processing City Number: 2618795 | City: klaksvik \n",
      "118. Processing City Number: 2177069 | City: ballina \n",
      "119. Processing City Number: 5882953 | City: aklavik \n",
      "120. Processing City Number: 2180815 | City: tuatapere \n",
      "121. Processing City Number: 1637001 | City: luwuk \n",
      "122. Processing City Number: 2738381 | City: lata \n",
      "123. Processing City Number: 1282256 | City: hithadhoo \n",
      "124. Processing City Number: 5866583 | City: kodiak \n",
      "125. Processing City Number: 5099087 | City: hillsdale \n",
      "126. Processing City Number: 2514651 | City: los llanos de aridane \n",
      "127. Processing City Number: 2027806 | City: amazar \n",
      "128. Processing City Number: 2015306 | City: tiksi \n",
      "129. Processing City Number: 6148373 | City: sioux lookout \n",
      "130. Processing City Number: 2074113 | City: collie \n",
      "*** ERROR PROCESSING CITY saleaula\n",
      "132. Processing City Number: 2137773 | City: vao \n",
      "133. Processing City Number: 566456 | City: dergachi \n",
      "134. Processing City Number: 1521293 | City: lugovoy \n",
      "135. Processing City Number: 359783 | City: asyut \n",
      "136. Processing City Number: 2122090 | City: pevek \n",
      "*** ERROR PROCESSING CITY alotau\n",
      "138. Processing City Number: 1268022 | City: kankon \n",
      "*** ERROR PROCESSING CITY kamenskoye\n",
      "140. Processing City Number: 1056899 | City: sambava \n",
      "141. Processing City Number: 2027044 | City: batagay \n",
      "142. Processing City Number: 1067565 | City: beloha \n",
      "143. Processing City Number: 3150002 | City: kjopsvik \n",
      "*** ERROR PROCESSING CITY baboua\n",
      "145. Processing City Number: 4161075 | City: labelle \n",
      "146. Processing City Number: 3126369 | City: carballo \n",
      "*** ERROR PROCESSING CITY bur gabo\n",
      "148. Processing City Number: 359796 | City: suez \n",
      "149. Processing City Number: 6089245 | City: norman wells \n",
      "150. Processing City Number: 2090021 | City: namatanai \n",
      "151. Processing City Number: 2016910 | City: severobaykalsk \n",
      "152. Processing City Number: 3408424 | City: ipixuna \n",
      "153. Processing City Number: 2126785 | City: belaya gora \n",
      "154. Processing City Number: 481548 | City: troitsko-pechorsk \n",
      "155. Processing City Number: 3837213 | City: san juan \n",
      "156. Processing City Number: 324190 | City: alanya \n",
      "157. Processing City Number: 3150261 | City: kirkenaer \n"
     ]
    },
    {
     "name": "stdout",
     "output_type": "stream",
     "text": [
      "158. Processing City Number: 4021858 | City: guerrero negro \n",
      "159. Processing City Number: 5391295 | City: salinas \n",
      "160. Processing City Number: 1651531 | City: ambon \n",
      "161. Processing City Number: 4513583 | City: hamilton \n",
      "162. Processing City Number: 1793899 | City: suicheng \n",
      "163. Processing City Number: 5881688 | City: fort saint james \n",
      "164. Processing City Number: 5924351 | City: clyde river \n",
      "165. Processing City Number: 2022572 | City: khatanga \n",
      "166. Processing City Number: 3464724 | City: diamantino \n",
      "167. Processing City Number: 2027316 | City: ayan \n",
      "168. Processing City Number: 2071860 | City: esperance \n",
      "169. Processing City Number: 3354540 | City: omaruru \n",
      "*** ERROR PROCESSING CITY marcona\n",
      "171. Processing City Number: 2063036 | City: port lincoln \n",
      "172. Processing City Number: 2264557 | City: ponta do sol \n",
      "173. Processing City Number: 5563839 | City: fortuna \n",
      "*** ERROR PROCESSING CITY taburao\n",
      "175. Processing City Number: 2208248 | City: kaitangata \n",
      "176. Processing City Number: 3466980 | City: caravelas \n",
      "177. Processing City Number: 64814 | City: bandarbeyla \n",
      "178. Processing City Number: 471607 | City: voskresenskoye \n",
      "179. Processing City Number: 2173323 | City: bundaberg \n",
      "180. Processing City Number: 3836620 | City: san ramon de la nueva oran \n",
      "181. Processing City Number: 1648636 | City: bitung \n",
      "182. Processing City Number: 4328010 | City: houma \n",
      "183. Processing City Number: 2269142 | City: colares \n",
      "184. Processing City Number: 5856516 | City: ahuimanu \n",
      "185. Processing City Number: 236524 | City: rafai \n",
      "186. Processing City Number: 1529376 | City: korla \n",
      "187. Processing City Number: 935215 | City: saint-philippe \n",
      "188. Processing City Number: 2035610 | City: nehe \n",
      "189. Processing City Number: 1252668 | City: ziro \n",
      "190. Processing City Number: 5767918 | City: pierre \n",
      "191. Processing City Number: 2028164 | City: deputatskiy \n",
      "192. Processing City Number: 3347762 | City: lubango \n",
      "193. Processing City Number: 5282297 | City: bethel \n",
      "194. Processing City Number: 6165406 | City: thompson \n",
      "195. Processing City Number: 1161724 | City: chabahar \n",
      "*** ERROR PROCESSING CITY lolua\n",
      "197. Processing City Number: 2986795 | City: plerin \n",
      "198. Processing City Number: 3374083 | City: bathsheba \n",
      "199. Processing City Number: 5546220 | City: saint george \n",
      "200. Processing City Number: 3663693 | City: jutai \n",
      "201. Processing City Number: 2122605 | City: okhotsk \n",
      "202. Processing City Number: 3125287 | City: cervo \n",
      "203. Processing City Number: 3395458 | City: maragogi \n",
      "204. Processing City Number: 2541479 | City: nador \n",
      "205. Processing City Number: 964420 | City: port elizabeth \n",
      "*** ERROR PROCESSING CITY marv dasht\n",
      "207. Processing City Number: 3932145 | City: pisco \n",
      "208. Processing City Number: 1784239 | City: ningxiang \n",
      "209. Processing City Number: 1486321 | City: yar-sale \n",
      "210. Processing City Number: 49747 | City: xuddur \n",
      "211. Processing City Number: 2145554 | City: ulladulla \n",
      "212. Processing City Number: 2985947 | City: porto-vecchio \n",
      "213. Processing City Number: 2521883 | City: almeria \n",
      "214. Processing City Number: 1649150 | City: bengkulu \n",
      "215. Processing City Number: 2155415 | City: new norfolk \n",
      "216. Processing City Number: 933077 | City: shakawe \n",
      "217. Processing City Number: 5746545 | City: portland \n",
      "218. Processing City Number: 750468 | City: boyabat \n",
      "219. Processing City Number: 4255151 | City: bud \n",
      "220. Processing City Number: 2439376 | City: tahoua \n",
      "221. Processing City Number: 2017215 | City: sangar \n",
      "222. Processing City Number: 4032243 | City: vaini \n",
      "223. Processing City Number: 1810637 | City: ganzhou \n",
      "224. Processing City Number: 3430708 | City: mercedes \n",
      "225. Processing City Number: 2123814 | City: leningradskiy \n",
      "*** ERROR PROCESSING CITY gangotri\n",
      "227. Processing City Number: 6156307 | City: stettler \n",
      "228. Processing City Number: 556961 | City: ilovlya \n",
      "229. Processing City Number: 3936456 | City: lima \n",
      "230. Processing City Number: 2662689 | City: visby \n",
      "231. Processing City Number: 3674292 | City: mosquera \n",
      "232. Processing City Number: 3988265 | City: sahuaripa \n",
      "233. Processing City Number: 6533368 | City: moranbah \n",
      "234. Processing City Number: 4231997 | City: avera \n",
      "235. Processing City Number: 1634614 | City: nabire \n",
      "236. Processing City Number: 2063042 | City: port hedland \n",
      "237. Processing City Number: 1645528 | City: denpasar \n",
      "238. Processing City Number: 3372707 | City: ribeira grande \n",
      "239. Processing City Number: 4006532 | City: esqueda \n",
      "240. Processing City Number: 4437982 | City: natchez \n",
      "241. Processing City Number: 1626703 | City: soe \n",
      "242. Processing City Number: 2206894 | City: hokitika \n",
      "243. Processing City Number: 2396518 | City: port-gentil \n",
      "244. Processing City Number: 3393536 | City: olinda \n",
      "245. Processing City Number: 905395 | City: mufulira \n",
      "246. Processing City Number: 3653967 | City: muisne \n",
      "247. Processing City Number: 1264976 | City: leh \n",
      "248. Processing City Number: 3838859 | City: rio gallegos \n",
      "*** ERROR PROCESSING CITY mentok\n",
      "250. Processing City Number: 2208485 | City: zlitan \n",
      "251. Processing City Number: 1507390 | City: dikson \n",
      "252. Processing City Number: 4031637 | City: lavrentiya \n",
      "253. Processing City Number: 750735 | City: besikduzu \n",
      "254. Processing City Number: 553766 | City: kamenka \n",
      "255. Processing City Number: 1015776 | City: bredasdorp \n",
      "256. Processing City Number: 212902 | City: kindu \n",
      "257. Processing City Number: 1731248 | City: alugan \n",
      "*** ERROR PROCESSING CITY nguiu\n",
      "259. Processing City Number: 2120591 | City: tilichiki \n",
      "260. Processing City Number: 1515029 | City: ulaangom \n",
      "261. Processing City Number: 876177 | City: luau \n",
      "262. Processing City Number: 2013279 | City: vostok \n",
      "263. Processing City Number: 2630299 | City: hofn \n",
      "264. Processing City Number: 2166368 | City: forbes \n",
      "265. Processing City Number: 2514301 | City: mahon \n",
      "266. Processing City Number: 3516515 | City: sotuta \n",
      "267. Processing City Number: 3395503 | City: maraba \n",
      "*** ERROR PROCESSING CITY tabiauea\n",
      "269. Processing City Number: 1160571 | City: khash \n",
      "270. Processing City Number: 3372964 | City: lagoa \n",
      "271. Processing City Number: 3903320 | City: tarija \n",
      "272. Processing City Number: 1529651 | City: altay \n",
      "273. Processing City Number: 3883457 | City: lebu \n",
      "274. Processing City Number: 2015179 | City: tommot \n",
      "275. Processing City Number: 6141439 | City: sault sainte marie \n",
      "276. Processing City Number: 4505215 | City: amberley \n",
      "277. Processing City Number: 1071296 | City: antalaha \n",
      "278. Processing City Number: 3351500 | City: caala \n",
      "279. Processing City Number: 1852357 | City: shimoda \n",
      "280. Processing City Number: 777019 | City: vardo \n",
      "281. Processing City Number: 962367 | City: richards bay \n",
      "282. Processing City Number: 2108857 | City: gizo \n",
      "283. Processing City Number: 1624041 | City: ternate \n",
      "284. Processing City Number: 2629833 | City: husavik \n",
      "285. Processing City Number: 933995 | City: souillac \n",
      "286. Processing City Number: 6185377 | City: yellowknife \n",
      "287. Processing City Number: 2194098 | City: ahipara \n",
      "288. Processing City Number: 3466165 | City: cidreira \n",
      "289. Processing City Number: 3471451 | City: arraial do cabo \n",
      "290. Processing City Number: 1636544 | City: manado \n",
      "291. Processing City Number: 3894426 | City: coihaique \n",
      "292. Processing City Number: 1490277 | City: talitsa \n",
      "293. Processing City Number: 2886242 | City: colonia \n",
      "294. Processing City Number: 3833883 | City: trelew \n",
      "*** ERROR PROCESSING CITY hai phong\n",
      "296. Processing City Number: 3351663 | City: benguela \n",
      "297. Processing City Number: 4726521 | City: san patricio \n",
      "298. Processing City Number: 5386754 | City: redlands \n",
      "299. Processing City Number: 2025241 | City: churapcha \n",
      "300. Processing City Number: 2469252 | City: manzil salim \n",
      "301. Processing City Number: 3454061 | City: peruibe \n",
      "302. Processing City Number: 1488167 | City: ust-koksa \n",
      "303. Processing City Number: 1791779 | City: wanning \n",
      "304. Processing City Number: 2127202 | City: anadyr \n",
      "305. Processing City Number: 1514792 | City: gazojak \n",
      "*** ERROR PROCESSING CITY sentyabrskiy\n",
      "307. Processing City Number: 934322 | City: mahebourg \n",
      "308. Processing City Number: 1808977 | City: hanchuan \n",
      "*** ERROR PROCESSING CITY saryshagan\n",
      "310. Processing City Number: 4315067 | City: ascension \n",
      "311. Processing City Number: 2208791 | City: yafran \n"
     ]
    },
    {
     "name": "stdout",
     "output_type": "stream",
     "text": [
      "312. Processing City Number: 1505965 | City: igrim \n",
      "313. Processing City Number: 2649738 | City: fairlie \n",
      "*** ERROR PROCESSING CITY harigue\n",
      "315. Processing City Number: 1024312 | City: mocuba \n",
      "316. Processing City Number: 3423146 | City: ilulissat \n",
      "317. Processing City Number: 515246 | City: onega \n",
      "318. Processing City Number: 2598243 | City: soubre \n",
      "319. Processing City Number: 2013727 | City: vanavara \n",
      "320. Processing City Number: 3985710 | City: cabo san lucas \n",
      "321. Processing City Number: 1701054 | City: marawi \n",
      "322. Processing City Number: 3439389 | City: asuncion \n",
      "323. Processing City Number: 290030 | City: doha \n",
      "324. Processing City Number: 1507379 | City: divnogorsk \n",
      "325. Processing City Number: 4993659 | City: garden city \n",
      "326. Processing City Number: 4385966 | City: excelsior springs \n",
      "327. Processing City Number: 3095058 | City: kostrzyn \n",
      "328. Processing City Number: 139817 | City: bushehr \n",
      "329. Processing City Number: 3980782 | City: ures \n",
      "330. Processing City Number: 5850554 | City: makakilo city \n",
      "331. Processing City Number: 1276355 | City: bhadasar \n",
      "332. Processing City Number: 2093059 | City: kundiawa \n",
      "333. Processing City Number: 2065594 | City: mount isa \n",
      "334. Processing City Number: 3860443 | City: comodoro rivadavia \n",
      "335. Processing City Number: 712387 | City: berezanka \n",
      "336. Processing City Number: 105298 | City: jizan \n",
      "337. Processing City Number: 5972762 | City: hay river \n",
      "338. Processing City Number: 1501460 | City: kulunda \n",
      "339. Processing City Number: 3903391 | City: tarabuco \n",
      "340. Processing City Number: 1608033 | City: pak phanang \n",
      "341. Processing City Number: 2392505 | City: nikki \n",
      "342. Processing City Number: 2037485 | City: erenhot \n",
      "343. Processing City Number: 1242110 | City: kalmunai \n",
      "344. Processing City Number: 5062458 | City: west fargo \n",
      "345. Processing City Number: 2136825 | City: isangel \n",
      "346. Processing City Number: 2031964 | City: darhan \n",
      "347. Processing City Number: 1273618 | City: daman \n",
      "348. Processing City Number: 5110365 | City: broome \n",
      "349. Processing City Number: 4031742 | City: egvekinot \n",
      "350. Processing City Number: 2206854 | City: gisborne \n",
      "351. Processing City Number: 1688696 | City: san policarpo \n",
      "*** ERROR PROCESSING CITY skagastrond\n",
      "353. Processing City Number: 611809 | City: surami \n",
      "354. Processing City Number: 3576994 | City: cockburn town \n",
      "355. Processing City Number: 5972291 | City: havre-saint-pierre \n",
      "356. Processing City Number: 3393929 | City: nhamunda \n",
      "357. Processing City Number: 3996322 | City: mazatlan \n",
      "358. Processing City Number: 2141305 | City: fayaoue \n",
      "359. Processing City Number: 1732871 | City: singkang \n",
      "360. Processing City Number: 6180550 | City: whitehorse \n",
      "*** ERROR PROCESSING CITY atsiki\n",
      "362. Processing City Number: 2019912 | City: mogocha \n",
      "363. Processing City Number: 2121025 | City: srednekolymsk \n",
      "364. Processing City Number: 2141714 | City: bourail \n",
      "365. Processing City Number: 2112309 | City: katsuura \n",
      "366. Processing City Number: 2109528 | City: buala \n",
      "367. Processing City Number: 2644210 | City: liverpool \n",
      "368. Processing City Number: 2279172 | City: zuenoula \n",
      "369. Processing City Number: 3691954 | City: sechura \n",
      "370. Processing City Number: 6113406 | City: prince rupert \n",
      "371. Processing City Number: 3149512 | City: kopervik \n",
      "372. Processing City Number: 2646557 | City: horsham \n",
      "373. Processing City Number: 2367660 | City: badou \n",
      "374. Processing City Number: 1640902 | City: kawalu \n",
      "375. Processing City Number: 1737486 | City: bintulu \n",
      "376. Processing City Number: 3421765 | City: nanortalik \n",
      "377. Processing City Number: 2112444 | City: kamaishi \n",
      "378. Processing City Number: 1798490 | City: pulandian \n",
      "379. Processing City Number: 2264923 | City: peniche \n",
      "380. Processing City Number: 1804874 | City: kaihua \n",
      "381. Processing City Number: 3440777 | City: rocha \n",
      "382. Processing City Number: 8079926 | City: labuhan \n",
      "383. Processing City Number: 3567597 | City: bayamo \n",
      "*** ERROR PROCESSING CITY mahadday weyne\n",
      "385. Processing City Number: 3389822 | City: salinopolis \n",
      "386. Processing City Number: 2012593 | City: zeya \n",
      "387. Processing City Number: 1489822 | City: teguldet \n",
      "388. Processing City Number: 2980080 | City: saint-francois \n",
      "389. Processing City Number: 6111696 | City: port-cartier \n",
      "390. Processing City Number: 2639563 | City: redcar \n",
      "391. Processing City Number: 2276492 | City: harper \n",
      "392. Processing City Number: 3671437 | City: puerto leguizamo \n",
      "393. Processing City Number: 1625908 | City: sungairaya \n",
      "394. Processing City Number: 4492722 | City: southern pines \n",
      "395. Processing City Number: 544263 | City: koshekhabl \n",
      "396. Processing City Number: 609924 | City: emba \n",
      "397. Processing City Number: 1802550 | City: longkou \n",
      "398. Processing City Number: 1054463 | City: tsiroanomandidy \n",
      "399. Processing City Number: 5367788 | City: lompoc \n",
      "400. Processing City Number: 1011632 | City: de aar \n",
      "401. Processing City Number: 4016734 | City: bucerias \n",
      "402. Processing City Number: 1497376 | City: nizhnyaya tavda \n",
      "403. Processing City Number: 2125945 | City: dolinsk \n",
      "*** ERROR PROCESSING CITY mergui\n",
      "405. Processing City Number: 3038789 | City: abbeville \n",
      "406. Processing City Number: 1717787 | City: catuday \n",
      "407. Processing City Number: 6620339 | City: karratha \n",
      "408. Processing City Number: 687700 | City: zaporizhzhya \n",
      "409. Processing City Number: 6255012 | City: flinders \n",
      "410. Processing City Number: 486163 | City: sura \n",
      "411. Processing City Number: 1253237 | City: veraval \n",
      "412. Processing City Number: 1052944 | City: angoche \n",
      "413. Processing City Number: 108410 | City: riyadh \n",
      "414. Processing City Number: 1328421 | City: pathein \n",
      "415. Processing City Number: 4034551 | City: faanui \n",
      "416. Processing City Number: 1863997 | City: fukue \n",
      "417. Processing City Number: 905382 | City: mufumbwe \n",
      "418. Processing City Number: 7372400 | City: weihe \n",
      "419. Processing City Number: 2961459 | City: skibbereen \n",
      "420. Processing City Number: 1337617 | City: muli \n",
      "421. Processing City Number: 1507565 | City: dalmatovo \n",
      "422. Processing City Number: 495260 | City: shcherbinka \n",
      "423. Processing City Number: 2173911 | City: broken hill \n",
      "424. Processing City Number: 2652885 | City: cleethorpes \n",
      "425. Processing City Number: 1811720 | City: enshi \n",
      "426. Processing City Number: 2035593 | City: nianzishan \n",
      "427. Processing City Number: 2122389 | City: ossora \n",
      "428. Processing City Number: 154097 | City: mgandu \n",
      "429. Processing City Number: 5965462 | City: gravelbourg \n",
      "430. Processing City Number: 2152659 | City: port macquarie \n",
      "431. Processing City Number: 3723593 | City: jeremie \n",
      "432. Processing City Number: 1259385 | City: port blair \n",
      "433. Processing City Number: 2206874 | City: waipawa \n",
      "434. Processing City Number: 7671223 | City: kloulklubed \n",
      "435. Processing City Number: 1279094 | City: akot \n",
      "*** ERROR PROCESSING CITY macaboboni\n",
      "437. Processing City Number: 4026082 | City: lazaro cardenas \n",
      "438. Processing City Number: 587207 | City: artyom \n",
      "439. Processing City Number: 5962442 | City: goderich \n",
      "440. Processing City Number: 668687 | City: romuli \n",
      "441. Processing City Number: 1174451 | City: keti bandar \n",
      "442. Processing City Number: 2090990 | City: mendi \n",
      "443. Processing City Number: 6111867 | City: port hawkesbury \n",
      "444. Processing City Number: 312888 | City: hakkari \n",
      "445. Processing City Number: 1502073 | City: krasnoselkup \n",
      "446. Processing City Number: 5039675 | City: northfield \n",
      "447. Processing City Number: 2986732 | City: ploemeur \n",
      "448. Processing City Number: 240210 | City: birao \n",
      "449. Processing City Number: 1559582 | City: palau \n",
      "450. Processing City Number: 499051 | City: samashki \n",
      "451. Processing City Number: 3472406 | City: alvinopolis \n",
      "452. Processing City Number: 151567 | City: nguruka \n",
      "453. Processing City Number: 1524801 | City: shieli \n",
      "454. Processing City Number: 3654667 | City: sacama \n",
      "455. Processing City Number: 203717 | City: yangambi \n",
      "456. Processing City Number: 776175 | City: biala podlaska \n",
      "457. Processing City Number: 56166 | City: jilib \n",
      "458. Processing City Number: 3385980 | City: tucuma \n",
      "459. Processing City Number: 3388847 | City: sao felix do xingu \n",
      "460. Processing City Number: 1855476 | City: nichinan \n",
      "*** ERROR PROCESSING CITY toliary\n",
      "*** ERROR PROCESSING CITY ruatoria\n",
      "463. Processing City Number: 1785036 | City: zhangye \n"
     ]
    },
    {
     "name": "stdout",
     "output_type": "stream",
     "text": [
      "464. Processing City Number: 3451051 | City: rio verde de mato grosso \n",
      "465. Processing City Number: 2063056 | City: port augusta \n",
      "466. Processing City Number: 2128975 | City: nemuro \n",
      "467. Processing City Number: 2176639 | City: batemans bay \n",
      "468. Processing City Number: 1259395 | City: porbandar \n",
      "*** ERROR PROCESSING CITY warqla\n",
      "470. Processing City Number: 5326297 | City: barstow \n",
      "471. Processing City Number: 3386213 | City: touros \n",
      "472. Processing City Number: 1151073 | City: prachuap khiri khan \n",
      "473. Processing City Number: 1735634 | City: kuching \n",
      "474. Processing City Number: 1250161 | City: batticaloa \n",
      "475. Processing City Number: 89113 | City: ajdabiya \n",
      "476. Processing City Number: 921786 | City: mitsamiouli \n",
      "477. Processing City Number: 2381972 | City: adrar \n",
      "478. Processing City Number: 1508501 | City: chadan \n",
      "479. Processing City Number: 3520994 | City: puerto escondido \n",
      "480. Processing City Number: 3105522 | City: bereda \n",
      "481. Processing City Number: 3573374 | City: the valley \n",
      "482. Processing City Number: 4576653 | City: dillon \n",
      "483. Processing City Number: 336496 | City: gimbi \n",
      "484. Processing City Number: 5919850 | City: chapais \n",
      "485. Processing City Number: 3899695 | City: ancud \n",
      "486. Processing City Number: 1497917 | City: nefteyugansk \n",
      "487. Processing City Number: 3354077 | City: opuwo \n",
      "488. Processing City Number: 5935341 | City: dauphin \n",
      "489. Processing City Number: 2160735 | City: lakes entrance \n",
      "490. Processing City Number: 1633034 | City: palu \n",
      "491. Processing City Number: 4047434 | City: russell \n",
      "492. Processing City Number: 6453316 | City: tromso \n",
      "*** ERROR PROCESSING CITY ust-kamchatsk\n",
      "494. Processing City Number: 6690296 | City: saint-joseph \n",
      "495. Processing City Number: 2033423 | City: yebaishou \n",
      "496. Processing City Number: 3412093 | City: vestmannaeyjar \n",
      "497. Processing City Number: 2377457 | City: nouadhibou \n",
      "498. Processing City Number: 217834 | City: bukama \n",
      "499. Processing City Number: 1861084 | City: izumo \n",
      "*** ERROR PROCESSING CITY safwah\n",
      "501. Processing City Number: 946058 | City: umtata \n",
      "502. Processing City Number: 778707 | City: mehamn \n",
      "503. Processing City Number: 4362001 | City: mayo \n",
      "504. Processing City Number: 3418910 | City: upernavik \n",
      "505. Processing City Number: 4031574 | City: provideniya \n",
      "506. Processing City Number: 3480908 | City: la asuncion \n",
      "507. Processing City Number: 2524245 | City: marsala \n",
      "508. Processing City Number: 3050311 | City: kerekegyhaza \n",
      "*** ERROR PROCESSING CITY inderborskiy\n",
      "510. Processing City Number: 3646487 | City: carora \n",
      "511. Processing City Number: 3645532 | City: ciudad bolivar \n",
      "512. Processing City Number: 779350 | City: karasjok \n",
      "513. Processing City Number: 1491291 | City: sosnovoborsk \n",
      "514. Processing City Number: 2013918 | City: ust-maya \n",
      "515. Processing City Number: 3120211 | City: jaca \n",
      "516. Processing City Number: 1627877 | City: sembakung \n",
      "517. Processing City Number: 1444363 | City: nuristan \n",
      "518. Processing City Number: 4560349 | City: filadelfia \n",
      "519. Processing City Number: 2240449 | City: luanda \n",
      "520. Processing City Number: 3374333 | City: praya \n",
      "*** ERROR PROCESSING CITY stoyba\n",
      "522. Processing City Number: 5655240 | City: great falls \n",
      "523. Processing City Number: 3393692 | City: itarema \n",
      "524. Processing City Number: 829788 | City: narkevychi \n",
      "525. Processing City Number: 7846036 | City: parakan \n",
      "526. Processing City Number: 3931656 | City: pucara \n",
      "527. Processing City Number: 3892454 | City: diego de almagro \n",
      "528. Processing City Number: 2561668 | City: agadir \n",
      "529. Processing City Number: 3691582 | City: talara \n",
      "530. Processing City Number: 3461628 | City: ibaiti \n",
      "531. Processing City Number: 3372783 | City: ponta delgada \n",
      "532. Processing City Number: 5354943 | City: half moon bay \n",
      "533. Processing City Number: 2249281 | City: linguere \n",
      "534. Processing City Number: 161974 | City: gazanjyk \n",
      "535. Processing City Number: 2077895 | City: alice springs \n",
      "536. Processing City Number: 4957320 | City: bar harbor \n",
      "537. Processing City Number: 3451138 | City: rio grande \n",
      "538. Processing City Number: 3026204 | City: chateauroux \n",
      "539. Processing City Number: 1583992 | City: da nang \n",
      "540. Processing City Number: 5864145 | City: homer \n",
      "541. Processing City Number: 2171099 | City: codrington \n",
      "542. Processing City Number: 147307 | City: qaracala \n",
      "543. Processing City Number: 4845585 | City: westport \n",
      "544. Processing City Number: 3491161 | City: bull savanna \n",
      "545. Processing City Number: 3468352 | City: cacu \n",
      "546. Processing City Number: 1337605 | City: mahibadhoo \n",
      "547. Processing City Number: 1806840 | City: huilong \n",
      "*** ERROR PROCESSING CITY rungata\n",
      "549. Processing City Number: 2174444 | City: bowen \n",
      "550. Processing City Number: 140463 | City: birjand \n",
      "551. Processing City Number: 299900 | City: talas \n",
      "*** ERROR PROCESSING CITY artyk\n",
      "553. Processing City Number: 1490796 | City: strezhevoy \n",
      "554. Processing City Number: 3938415 | City: ilo \n",
      "555. Processing City Number: 3460087 | City: jardim \n",
      "556. Processing City Number: 2015217 | City: tokur \n",
      "557. Processing City Number: 2312888 | City: mbanza-ngungu \n",
      "558. Processing City Number: 560191 | City: gordeyevka \n",
      "559. Processing City Number: 3492984 | City: el seibo \n",
      "*** ERROR PROCESSING CITY grand river south east\n",
      "561. Processing City Number: 544084 | City: koslan \n",
      "562. Processing City Number: 524299 | City: murmashi \n",
      "563. Processing City Number: 2476660 | City: tigzirt \n",
      "564. Processing City Number: 3933874 | City: oxapampa \n",
      "565. Processing City Number: 5640350 | City: billings \n",
      "566. Processing City Number: 5861897 | City: fairbanks \n",
      "567. Processing City Number: 3832899 | City: viedma \n",
      "568. Processing City Number: 6145890 | City: shelburne \n",
      "569. Processing City Number: 1174344 | City: khairpur nathan shah \n",
      "570. Processing City Number: 961226 | City: ritchie \n",
      "571. Processing City Number: 3984771 | City: san simon de la laguna \n",
      "572. Processing City Number: 3414079 | City: olafsvik \n",
      "573. Processing City Number: 2304548 | City: anloga \n",
      "574. Processing City Number: 1529484 | City: hami \n",
      "575. Processing City Number: 1856717 | City: shintomi \n",
      "576. Processing City Number: 686090 | City: asau \n",
      "577. Processing City Number: 186180 | City: moyale \n",
      "578. Processing City Number: 3393471 | City: oriximina \n",
      "579. Processing City Number: 648090 | City: lieksa \n",
      "580. Processing City Number: 2019935 | City: mnogovershinnyy \n",
      "581. Processing City Number: 2339156 | City: idah \n",
      "*** ERROR PROCESSING CITY karakose\n",
      "583. Processing City Number: 2079582 | City: alyangula \n",
      "584. Processing City Number: 292968 | City: abu dhabi \n",
      "585. Processing City Number: 3175096 | City: lasa \n",
      "586. Processing City Number: 3870243 | City: taltal \n",
      "587. Processing City Number: 2036283 | City: kuandian \n",
      "588. Processing City Number: 172515 | City: abu samrah \n",
      "589. Processing City Number: 3445026 | City: vila velha \n",
      "590. Processing City Number: 4297983 | City: lexington \n",
      "591. Processing City Number: 906054 | City: mongu \n",
      "592. Processing City Number: 1651810 | City: airai \n",
      "593. Processing City Number: 1735799 | City: sri aman \n",
      "594. Processing City Number: 522508 | City: nesterov \n",
      "595. Processing City Number: 3460734 | City: itaperucu \n",
      "596. Processing City Number: 5104759 | City: somerset \n",
      "597. Processing City Number: 155921 | City: liwale \n",
      "598. Processing City Number: 7647007 | City: san carlos de bariloche \n",
      "*** ERROR PROCESSING CITY pousat\n",
      "600. Processing City Number: 5132016 | City: port jervis \n",
      "601. Processing City Number: 2112802 | City: hasaki \n",
      "602. Processing City Number: 1651103 | City: atambua \n",
      "603. Processing City Number: 3128760 | City: barcelona \n",
      "604. Processing City Number: 1786657 | City: yinchuan \n",
      "605. Processing City Number: 2701680 | City: karlstad \n",
      "606. Processing City Number: 4844309 | City: torrington \n",
      "607. Processing City Number: 584365 | City: abrau-dyurso \n",
      "608. Processing City Number: 2025630 | City: chara \n",
      "*** ERROR PROCESSING CITY gumushane\n",
      "610. Processing City Number: 1485680 | City: yurty \n",
      "611. Processing City Number: 3455036 | City: parati \n",
      "612. Processing City Number: 1527121 | City: tyup \n",
      "613. Processing City Number: 1858301 | City: kurayoshi \n",
      "614. Processing City Number: 6096551 | City: pangnirtung \n",
      "615. Processing City Number: 2527087 | City: tiznit \n"
     ]
    },
    {
     "name": "stdout",
     "output_type": "stream",
     "text": [
      "616. Processing City Number: 780687 | City: berlevag \n",
      "617. Processing City Number: 5712169 | City: baker city \n",
      "618. Processing City Number: 5949563 | City: esterhazy \n",
      "619. Processing City Number: 2294700 | City: tema \n",
      "620. Processing City Number: 580299 | City: avdon \n",
      "621. Processing City Number: 2274895 | City: monrovia \n",
      "622. Processing City Number: 4273680 | City: junction city \n",
      "623. Processing City Number: 6853140 | City: lesnoy \n",
      "624. Processing City Number: 2058430 | City: whyalla \n",
      "625. Processing City Number: 4791259 | City: virginia beach \n",
      "626. Processing City Number: 2279755 | City: yamoussoukro \n",
      "627. Processing City Number: 1244926 | City: hambantota \n",
      "*** ERROR PROCESSING CITY tsihombe\n",
      "629. Processing City Number: 3901547 | City: villamontes \n",
      "630. Processing City Number: 2156643 | City: mount gambier \n",
      "631. Processing City Number: 915471 | City: kalabo \n",
      "632. Processing City Number: 1173302 | City: kot diji \n",
      "*** ERROR PROCESSING CITY kazalinsk\n",
      "634. Processing City Number: 6067747 | City: matagami \n",
      "635. Processing City Number: 2016733 | City: shestakovo \n",
      "636. Processing City Number: 934479 | City: grand gaube \n",
      "637. Processing City Number: 5915327 | City: cap-aux-meules \n",
      "638. Processing City Number: 595378 | City: raseiniai \n",
      "639. Processing City Number: 4566208 | City: maunabo \n",
      "640. Processing City Number: 3374120 | City: vila do maio \n",
      "641. Processing City Number: 2647356 | City: hastings \n",
      "642. Processing City Number: 2021017 | City: kysyl-syr \n",
      "--- PROCESSING COMPLETE ---\n",
      "Successfully Processed: 592\n",
      "    Errors Encountered: 50\n"
     ]
    }
   ],
   "source": [
    "url = \"http://api.openweathermap.org/data/2.5/weather?\"\n",
    "units = \"imperial\"\n",
    "\n",
    "# Build partial query URL\n",
    "query_url = f\"{url}appid={weather_api_key}&units={units}&q=\"\n",
    "\n",
    "# set up lists to hold reponse info\n",
    "city_l = []\n",
    "country = []\n",
    "datetime = []\n",
    "lat = []\n",
    "long = []\n",
    "maxtemp = []\n",
    "humidity = []\n",
    "cloudiness = []\n",
    "windspeed = []\n",
    "\n",
    "errors = 0\n",
    "processed = 0\n",
    "n=0\n",
    "\n",
    "for city in cities:\n",
    "    n += 1 \n",
    "    try:\n",
    "        response = requests.get(query_url + city).json()\n",
    "        print(f\"{n}. Processing City Number: {response['id']} | City: {city} \")\n",
    "        city_l.append(response['name'])\n",
    "        country.append(response['sys']['country'])\n",
    "        datetime.append(response['dt'])\n",
    "        lat.append(response['coord']['lat'])\n",
    "        long.append(response['coord']['lon'])\n",
    "        maxtemp.append(response['main']['temp_max'])\n",
    "        humidity.append(response['main']['humidity'])\n",
    "        cloudiness.append(response['clouds']['all'])\n",
    "        windspeed.append(response['wind']['speed'])\n",
    "        processed +=1\n",
    "    except:\n",
    "        print(f\"*** ERROR PROCESSING CITY {city}\")\n",
    "        errors +=1\n",
    "    time.sleep(1)\n",
    "\n",
    "# Print summary stats on the processing\n",
    "print(\"--- PROCESSING COMPLETE ---\")\n",
    "print(f\"Successfully Processed: {processed}\")\n",
    "print(f\"    Errors Encountered: {errors}\")"
   ]
  },
  {
   "cell_type": "markdown",
   "metadata": {},
   "source": [
    "### Convert Raw Data to DataFrame\n",
    "* Export the city data into a .csv.\n",
    "* Display the DataFrame"
   ]
  },
  {
   "cell_type": "code",
   "execution_count": 4,
   "metadata": {},
   "outputs": [
    {
     "data": {
      "text/html": [
       "<div>\n",
       "<style scoped>\n",
       "    .dataframe tbody tr th:only-of-type {\n",
       "        vertical-align: middle;\n",
       "    }\n",
       "\n",
       "    .dataframe tbody tr th {\n",
       "        vertical-align: top;\n",
       "    }\n",
       "\n",
       "    .dataframe thead th {\n",
       "        text-align: right;\n",
       "    }\n",
       "</style>\n",
       "<table border=\"1\" class=\"dataframe\">\n",
       "  <thead>\n",
       "    <tr style=\"text-align: right;\">\n",
       "      <th></th>\n",
       "      <th>city</th>\n",
       "      <th>country</th>\n",
       "      <th>datetime</th>\n",
       "      <th>lat</th>\n",
       "      <th>long</th>\n",
       "      <th>maxtemp</th>\n",
       "      <th>humidity</th>\n",
       "      <th>cloudiness</th>\n",
       "      <th>windspeed</th>\n",
       "    </tr>\n",
       "  </thead>\n",
       "  <tbody>\n",
       "    <tr>\n",
       "      <th>0</th>\n",
       "      <td>Kerema</td>\n",
       "      <td>PG</td>\n",
       "      <td>1633808781</td>\n",
       "      <td>-7.9631</td>\n",
       "      <td>145.7785</td>\n",
       "      <td>76.82</td>\n",
       "      <td>92</td>\n",
       "      <td>93</td>\n",
       "      <td>6.08</td>\n",
       "    </tr>\n",
       "    <tr>\n",
       "      <th>1</th>\n",
       "      <td>Mar del Plata</td>\n",
       "      <td>AR</td>\n",
       "      <td>1633808782</td>\n",
       "      <td>-38.0023</td>\n",
       "      <td>-57.5575</td>\n",
       "      <td>57.22</td>\n",
       "      <td>66</td>\n",
       "      <td>0</td>\n",
       "      <td>17.00</td>\n",
       "    </tr>\n",
       "    <tr>\n",
       "      <th>2</th>\n",
       "      <td>Kavaratti</td>\n",
       "      <td>IN</td>\n",
       "      <td>1633808608</td>\n",
       "      <td>10.5669</td>\n",
       "      <td>72.6420</td>\n",
       "      <td>82.24</td>\n",
       "      <td>80</td>\n",
       "      <td>98</td>\n",
       "      <td>10.51</td>\n",
       "    </tr>\n",
       "    <tr>\n",
       "      <th>3</th>\n",
       "      <td>Sitka</td>\n",
       "      <td>US</td>\n",
       "      <td>1633808784</td>\n",
       "      <td>57.0531</td>\n",
       "      <td>-135.3300</td>\n",
       "      <td>49.89</td>\n",
       "      <td>71</td>\n",
       "      <td>90</td>\n",
       "      <td>17.27</td>\n",
       "    </tr>\n",
       "    <tr>\n",
       "      <th>4</th>\n",
       "      <td>Ushuaia</td>\n",
       "      <td>AR</td>\n",
       "      <td>1633808786</td>\n",
       "      <td>-54.8000</td>\n",
       "      <td>-68.3000</td>\n",
       "      <td>51.46</td>\n",
       "      <td>62</td>\n",
       "      <td>40</td>\n",
       "      <td>9.22</td>\n",
       "    </tr>\n",
       "  </tbody>\n",
       "</table>\n",
       "</div>"
      ],
      "text/plain": [
       "            city country    datetime      lat      long  maxtemp  humidity  \\\n",
       "0         Kerema      PG  1633808781  -7.9631  145.7785    76.82        92   \n",
       "1  Mar del Plata      AR  1633808782 -38.0023  -57.5575    57.22        66   \n",
       "2      Kavaratti      IN  1633808608  10.5669   72.6420    82.24        80   \n",
       "3          Sitka      US  1633808784  57.0531 -135.3300    49.89        71   \n",
       "4        Ushuaia      AR  1633808786 -54.8000  -68.3000    51.46        62   \n",
       "\n",
       "   cloudiness  windspeed  \n",
       "0          93       6.08  \n",
       "1           0      17.00  \n",
       "2          98      10.51  \n",
       "3          90      17.27  \n",
       "4          40       9.22  "
      ]
     },
     "execution_count": 4,
     "metadata": {},
     "output_type": "execute_result"
    }
   ],
   "source": [
    "# create a data frame\n",
    "weather_dict = {\n",
    "    \"city\": city_l,\n",
    "    \"country\": country, \n",
    "    \"datetime\": datetime,\n",
    "    \"lat\": lat,\n",
    "    \"long\": long,\n",
    "    \"maxtemp\" : maxtemp,\n",
    "    \"humidity\": humidity,\n",
    "    \"cloudiness\": cloudiness,\n",
    "    \"windspeed\": windspeed}\n",
    "\n",
    "weather_data = pd.DataFrame(weather_dict)\n",
    "weather_data.to_csv(output_data_file, encoding=\"utf-8\", index=False)\n",
    "weather_data.head()"
   ]
  },
  {
   "cell_type": "code",
   "execution_count": null,
   "metadata": {},
   "outputs": [],
   "source": []
  },
  {
   "cell_type": "markdown",
   "metadata": {},
   "source": [
    "## Inspect the data and remove the cities where the humidity > 100%.\n",
    "----\n",
    "Skip this step if there are no cities that have humidity > 100%. "
   ]
  },
  {
   "cell_type": "code",
   "execution_count": 5,
   "metadata": {},
   "outputs": [
    {
     "data": {
      "text/plain": [
       "100"
      ]
     },
     "execution_count": 5,
     "metadata": {},
     "output_type": "execute_result"
    }
   ],
   "source": [
    "weather_data[\"humidity\"].max()"
   ]
  },
  {
   "cell_type": "code",
   "execution_count": 6,
   "metadata": {},
   "outputs": [
    {
     "data": {
      "text/html": [
       "<div>\n",
       "<style scoped>\n",
       "    .dataframe tbody tr th:only-of-type {\n",
       "        vertical-align: middle;\n",
       "    }\n",
       "\n",
       "    .dataframe tbody tr th {\n",
       "        vertical-align: top;\n",
       "    }\n",
       "\n",
       "    .dataframe thead th {\n",
       "        text-align: right;\n",
       "    }\n",
       "</style>\n",
       "<table border=\"1\" class=\"dataframe\">\n",
       "  <thead>\n",
       "    <tr style=\"text-align: right;\">\n",
       "      <th></th>\n",
       "      <th>city</th>\n",
       "      <th>country</th>\n",
       "      <th>datetime</th>\n",
       "      <th>lat</th>\n",
       "      <th>long</th>\n",
       "      <th>maxtemp</th>\n",
       "      <th>humidity</th>\n",
       "      <th>cloudiness</th>\n",
       "      <th>windspeed</th>\n",
       "    </tr>\n",
       "  </thead>\n",
       "  <tbody>\n",
       "  </tbody>\n",
       "</table>\n",
       "</div>"
      ],
      "text/plain": [
       "Empty DataFrame\n",
       "Columns: [city, country, datetime, lat, long, maxtemp, humidity, cloudiness, windspeed]\n",
       "Index: []"
      ]
     },
     "execution_count": 6,
     "metadata": {},
     "output_type": "execute_result"
    }
   ],
   "source": [
    "#  Get the indices of cities that have humidity over 100%.\n",
    "invalid_data = weather_data[weather_data[\"humidity\"] > 100]\n",
    "invalid_data"
   ]
  },
  {
   "cell_type": "code",
   "execution_count": 7,
   "metadata": {},
   "outputs": [
    {
     "name": "stdout",
     "output_type": "stream",
     "text": [
      "# of Rows in Data Frame BEFORE: 592\n",
      "# of Rows in Data Frame AFTER: 592\n"
     ]
    }
   ],
   "source": [
    "# Make a new DataFrame equal to the city data to drop all humidity outliers by index.\n",
    "# Passing \"inplace=False\" will make a copy of the city_data DataFrame, which we call \"clean_city_data\".\n",
    "print(f\"# of Rows in Data Frame BEFORE: {len(weather_data)}\")\n",
    "clean_weather_data = weather_data[weather_data[\"humidity\"] <= 100]\n",
    "print(f\"# of Rows in Data Frame AFTER: {len(clean_weather_data)}\")"
   ]
  },
  {
   "cell_type": "markdown",
   "metadata": {},
   "source": [
    "## Plotting the Data\n",
    "* Use proper labeling of the plots using plot titles (including date of analysis) and axes labels.\n",
    "* Save the plotted figures as .pngs."
   ]
  },
  {
   "cell_type": "markdown",
   "metadata": {},
   "source": [
    "## Latitude vs. Temperature Plot"
   ]
  },
  {
   "cell_type": "code",
   "execution_count": 8,
   "metadata": {
    "scrolled": true
   },
   "outputs": [
    {
     "data": {
      "image/png": "[encoded data removed]",
      "text/plain": [
       "<Figure size 432x288 with 1 Axes>"
      ]
     },
     "metadata": {
      "needs_background": "light"
     },
     "output_type": "display_data"
    }
   ],
   "source": [
    "x_values = clean_weather_data['lat']\n",
    "y_values = clean_weather_data['maxtemp']\n",
    "plt.scatter(x_values,y_values)\n",
    "plt.title('Latitude vs. Temperature Plot')\n",
    "plt.xlabel('Latitude')\n",
    "plt.ylabel('Temperature')\n",
    "plt.savefig('images/LatVsTemp.png')\n",
    "plt.show()"
   ]
  },
  {
   "cell_type": "markdown",
   "metadata": {},
   "source": [
    "## Latitude vs. Humidity Plot"
   ]
  },
  {
   "cell_type": "code",
   "execution_count": 9,
   "metadata": {},
   "outputs": [
    {
     "data": {
      "image/png": "[encoded data removed]",
      "text/plain": [
       "<Figure size 432x288 with 1 Axes>"
      ]
     },
     "metadata": {
      "needs_background": "light"
     },
     "output_type": "display_data"
    }
   ],
   "source": [
    "x_values = clean_weather_data['lat']\n",
    "y_values = clean_weather_data['humidity']\n",
    "plt.scatter(x_values,y_values)\n",
    "plt.title('Latitude vs. Humidity Plot')\n",
    "plt.xlabel('Latitude')\n",
    "plt.ylabel('Humidity')\n",
    "plt.savefig('images/LatVsHum.png')\n",
    "plt.show()"
   ]
  },
  {
   "cell_type": "markdown",
   "metadata": {},
   "source": [
    "## Latitude vs. Cloudiness Plot"
   ]
  },
  {
   "cell_type": "code",
   "execution_count": 10,
   "metadata": {},
   "outputs": [
    {
     "data": {
      "image/png": "[encoded data removed]",
      "text/plain": [
       "<Figure size 432x288 with 1 Axes>"
      ]
     },
     "metadata": {
      "needs_background": "light"
     },
     "output_type": "display_data"
    }
   ],
   "source": [
    "x_values = clean_weather_data['lat']\n",
    "y_values = clean_weather_data['cloudiness']\n",
    "plt.scatter(x_values,y_values)\n",
    "plt.title('Latitude vs. Cloudiness Plot')\n",
    "plt.xlabel('Latitude')\n",
    "plt.ylabel('Cloudiness')\n",
    "plt.savefig('images/LatVsCloud.png')\n",
    "plt.show()"
   ]
  },
  {
   "cell_type": "markdown",
   "metadata": {},
   "source": [
    "## Latitude vs. Wind Speed Plot"
   ]
  },
  {
   "cell_type": "code",
   "execution_count": 11,
   "metadata": {},
   "outputs": [
    {
     "data": {
      "image/png": "[encoded data removed]",
      "text/plain": [
       "<Figure size 432x288 with 1 Axes>"
      ]
     },
     "metadata": {
      "needs_background": "light"
     },
     "output_type": "display_data"
    }
   ],
   "source": [
    "x_values = clean_weather_data['lat']\n",
    "y_values = clean_weather_data['windspeed']\n",
    "plt.scatter(x_values,y_values)\n",
    "plt.title('Latitude vs. Wind Speed')\n",
    "plt.xlabel('Latitude')\n",
    "plt.ylabel('Wind Speed')\n",
    "plt.savefig('images/LatVsWind.png')\n",
    "plt.show()"
   ]
  },
  {
   "cell_type": "markdown",
   "metadata": {},
   "source": [
    "## Linear Regression"
   ]
  },
  {
   "cell_type": "code",
   "execution_count": 12,
   "metadata": {},
   "outputs": [
    {
     "data": {
      "text/html": [
       "<div>\n",
       "<style scoped>\n",
       "    .dataframe tbody tr th:only-of-type {\n",
       "        vertical-align: middle;\n",
       "    }\n",
       "\n",
       "    .dataframe tbody tr th {\n",
       "        vertical-align: top;\n",
       "    }\n",
       "\n",
       "    .dataframe thead th {\n",
       "        text-align: right;\n",
       "    }\n",
       "</style>\n",
       "<table border=\"1\" class=\"dataframe\">\n",
       "  <thead>\n",
       "    <tr style=\"text-align: right;\">\n",
       "      <th></th>\n",
       "      <th>city</th>\n",
       "      <th>country</th>\n",
       "      <th>datetime</th>\n",
       "      <th>lat</th>\n",
       "      <th>long</th>\n",
       "      <th>maxtemp</th>\n",
       "      <th>humidity</th>\n",
       "      <th>cloudiness</th>\n",
       "      <th>windspeed</th>\n",
       "    </tr>\n",
       "  </thead>\n",
       "  <tbody>\n",
       "  </tbody>\n",
       "</table>\n",
       "</div>"
      ],
      "text/plain": [
       "Empty DataFrame\n",
       "Columns: [city, country, datetime, lat, long, maxtemp, humidity, cloudiness, windspeed]\n",
       "Index: []"
      ]
     },
     "execution_count": 12,
     "metadata": {},
     "output_type": "execute_result"
    }
   ],
   "source": [
    "n_hemisphere = clean_weather_data.loc[weather_data[\"lat\"] > 0]\n",
    "s_hemisphere = clean_weather_data.loc[weather_data[\"lat\"] < 0]\n",
    "equator = clean_weather_data.loc[weather_data[\"lat\"] == 0]\n",
    "\n",
    "# Confirm no city is on the equator\n",
    "equator"
   ]
  },
  {
   "cell_type": "markdown",
   "metadata": {},
   "source": [
    "####  Northern Hemisphere - Max Temp vs. Latitude Linear Regression"
   ]
  },
  {
   "cell_type": "code",
   "execution_count": 13,
   "metadata": {},
   "outputs": [
    {
     "data": {
      "image/png": "[encoded data removed]",
      "text/plain": [
       "<Figure size 432x288 with 1 Axes>"
      ]
     },
     "metadata": {
      "needs_background": "light"
     },
     "output_type": "display_data"
    },
    {
     "name": "stdout",
     "output_type": "stream",
     "text": [
      "The correlation is -0.83\n"
     ]
    }
   ],
   "source": [
    "x_values = n_hemisphere['lat']\n",
    "y_values = n_hemisphere['maxtemp']\n",
    "plt.scatter(x_values,y_values)\n",
    "plt.title('Northern Hemisphere - Max Temp vs. Latitude')\n",
    "plt.xlabel('Latitude')\n",
    "plt.ylabel('Max Temperature')\n",
    "#plt.show()\n",
    "\n",
    "# Perform a linear regression on temperature vs. latitude\n",
    "(slope, intercept, rvalue, pvalue, stderr) = linregress(x_values, y_values)\n",
    "# Get regression values\n",
    "regress_values = x_values * slope + intercept\n",
    "line_eq = \"y = \" + str(round(slope,2)) + \"x +\" + str(round(intercept,2))\n",
    "plt.plot(x_values,regress_values,\"r-\")\n",
    "plt.savefig('images/NHem-MTempVsLat.png')\n",
    "plt.show()\n",
    "correlation = st.pearsonr(x_values,y_values)\n",
    "print(f\"The correlation is {round(correlation[0],2)}\")"
   ]
  },
  {
   "cell_type": "markdown",
   "metadata": {},
   "source": [
    "####  Southern Hemisphere - Max Temp vs. Latitude Linear Regression"
   ]
  },
  {
   "cell_type": "code",
   "execution_count": 14,
   "metadata": {},
   "outputs": [
    {
     "data": {
      "image/png": "[encoded data removed]",
      "text/plain": [
       "<Figure size 432x288 with 1 Axes>"
      ]
     },
     "metadata": {
      "needs_background": "light"
     },
     "output_type": "display_data"
    },
    {
     "name": "stdout",
     "output_type": "stream",
     "text": [
      "The correlation is 0.69\n"
     ]
    }
   ],
   "source": [
    "x_values = s_hemisphere['lat']\n",
    "y_values = s_hemisphere['maxtemp']\n",
    "plt.scatter(x_values,y_values)\n",
    "plt.title('Southern Hemisphere - Max Temp vs. Latitude')\n",
    "plt.xlabel('Latitude')\n",
    "plt.ylabel('Max Temperature')\n",
    "\n",
    "# Perform a linear regression on temperature vs. latitude\n",
    "(slope, intercept, rvalue, pvalue, stderr) = linregress(x_values, y_values)\n",
    "# Get regression values\n",
    "regress_values = x_values * slope + intercept\n",
    "line_eq = \"y = \" + str(round(slope,2)) + \"x +\" + str(round(intercept,2))\n",
    "plt.plot(x_values,regress_values,\"r-\")\n",
    "plt.savefig('images/SHem-MTempVsLat.png')\n",
    "plt.show()\n",
    "correlation = st.pearsonr(x_values,y_values)\n",
    "print(f\"The correlation is {round(correlation[0],2)}\")"
   ]
  },
  {
   "cell_type": "markdown",
   "metadata": {},
   "source": [
    "####  Northern Hemisphere - Humidity (%) vs. Latitude Linear Regression"
   ]
  },
  {
   "cell_type": "code",
   "execution_count": 15,
   "metadata": {},
   "outputs": [
    {
     "data": {
      "image/png": "[encoded data removed]",
      "text/plain": [
       "<Figure size 432x288 with 1 Axes>"
      ]
     },
     "metadata": {
      "needs_background": "light"
     },
     "output_type": "display_data"
    },
    {
     "name": "stdout",
     "output_type": "stream",
     "text": [
      "The correlation is 0.16\n"
     ]
    }
   ],
   "source": [
    "x_values = n_hemisphere['lat']\n",
    "y_values = n_hemisphere['humidity']\n",
    "plt.scatter(x_values,y_values)\n",
    "plt.title('Northern Hemisphere - Humidity (%) vs. Latitude')\n",
    "plt.xlabel('Latitude')\n",
    "plt.ylabel('Humidity')\n",
    "\n",
    "# Perform a linear regression on temperature vs. latitude\n",
    "(slope, intercept, rvalue, pvalue, stderr) = linregress(x_values, y_values)\n",
    "# Get regression values\n",
    "regress_values = x_values * slope + intercept\n",
    "line_eq = \"y = \" + str(round(slope,2)) + \"x +\" + str(round(intercept,2))\n",
    "plt.plot(x_values,regress_values,\"r-\")\n",
    "plt.savefig('images/NHem-HumidVsLat.png')\n",
    "plt.show()\n",
    "correlation = st.pearsonr(x_values,y_values)\n",
    "print(f\"The correlation is {round(correlation[0],2)}\")"
   ]
  },
  {
   "cell_type": "markdown",
   "metadata": {},
   "source": [
    "####  Southern Hemisphere - Humidity (%) vs. Latitude Linear Regression"
   ]
  },
  {
   "cell_type": "code",
   "execution_count": 16,
   "metadata": {},
   "outputs": [
    {
     "data": {
      "image/png": "[encoded data removed]",
      "text/plain": [
       "<Figure size 432x288 with 1 Axes>"
      ]
     },
     "metadata": {
      "needs_background": "light"
     },
     "output_type": "display_data"
    },
    {
     "name": "stdout",
     "output_type": "stream",
     "text": [
      "The correlation is 0.08\n"
     ]
    }
   ],
   "source": [
    "x_values = s_hemisphere['lat']\n",
    "y_values = s_hemisphere['humidity']\n",
    "plt.scatter(x_values,y_values)\n",
    "plt.title('Southern Hemisphere - Humidity (%) vs. Latitude')\n",
    "plt.xlabel('Latitude')\n",
    "plt.ylabel('Humidity')\n",
    "# Perform a linear regression on temperature vs. latitude\n",
    "(slope, intercept, rvalue, pvalue, stderr) = linregress(x_values, y_values)\n",
    "# Get regression values\n",
    "regress_values = x_values * slope + intercept\n",
    "line_eq = \"y = \" + str(round(slope,2)) + \"x +\" + str(round(intercept,2))\n",
    "plt.plot(x_values,regress_values,\"r-\")\n",
    "plt.savefig('images/SHem-HumidVsLat.png')\n",
    "plt.show()\n",
    "correlation = st.pearsonr(x_values,y_values)\n",
    "print(f\"The correlation is {round(correlation[0],2)}\")"
   ]
  },
  {
   "cell_type": "markdown",
   "metadata": {},
   "source": [
    "####  Northern Hemisphere - Cloudiness (%) vs. Latitude Linear Regression"
   ]
  },
  {
   "cell_type": "code",
   "execution_count": 17,
   "metadata": {},
   "outputs": [
    {
     "data": {
      "image/png": "[encoded data removed]",
      "text/plain": [
       "<Figure size 432x288 with 1 Axes>"
      ]
     },
     "metadata": {
      "needs_background": "light"
     },
     "output_type": "display_data"
    },
    {
     "name": "stdout",
     "output_type": "stream",
     "text": [
      "The correlation is 0.11\n"
     ]
    }
   ],
   "source": [
    "x_values = n_hemisphere['lat']\n",
    "y_values = n_hemisphere['cloudiness']\n",
    "plt.scatter(x_values,y_values)\n",
    "plt.title('Northern Hemisphere - Cloudiness (%) vs. Latitude')\n",
    "plt.xlabel('Latitude')\n",
    "plt.ylabel('Cloudiness')\n",
    "# Perform a linear regression on temperature vs. latitude\n",
    "(slope, intercept, rvalue, pvalue, stderr) = linregress(x_values, y_values)\n",
    "# Get regression values\n",
    "regress_values = x_values * slope + intercept\n",
    "line_eq = \"y = \" + str(round(slope,2)) + \"x +\" + str(round(intercept,2))\n",
    "plt.plot(x_values,regress_values,\"r-\")\n",
    "plt.savefig('images/NHem-CloudVsLat.png')\n",
    "plt.show()\n",
    "correlation = st.pearsonr(x_values,y_values)\n",
    "print(f\"The correlation is {round(correlation[0],2)}\")"
   ]
  },
  {
   "cell_type": "markdown",
   "metadata": {},
   "source": [
    "####  Southern Hemisphere - Cloudiness (%) vs. Latitude Linear Regression"
   ]
  },
  {
   "cell_type": "code",
   "execution_count": 18,
   "metadata": {},
   "outputs": [
    {
     "data": {
      "image/png": "[encoded data removed]",
      "text/plain": [
       "<Figure size 432x288 with 1 Axes>"
      ]
     },
     "metadata": {
      "needs_background": "light"
     },
     "output_type": "display_data"
    },
    {
     "name": "stdout",
     "output_type": "stream",
     "text": [
      "The correlation is 0.28\n"
     ]
    }
   ],
   "source": [
    "x_values = s_hemisphere['lat']\n",
    "y_values = s_hemisphere['cloudiness']\n",
    "plt.scatter(x_values,y_values)\n",
    "plt.title('Southern Hemisphere - Cloudiness (%) vs. Latitude')\n",
    "plt.xlabel('Latitude')\n",
    "plt.ylabel('Cloudiness')\n",
    "\n",
    "# Perform a linear regression on temperature vs. latitude\n",
    "(slope, intercept, rvalue, pvalue, stderr) = linregress(x_values, y_values)\n",
    "# Get regression values\n",
    "regress_values = x_values * slope + intercept\n",
    "line_eq = \"y = \" + str(round(slope,2)) + \"x +\" + str(round(intercept,2))\n",
    "plt.plot(x_values,regress_values,\"r-\")\n",
    "plt.savefig('images/SHem-CloudVsLat.png')\n",
    "plt.show()\n",
    "correlation = st.pearsonr(x_values,y_values)\n",
    "print(f\"The correlation is {round(correlation[0],2)}\")"
   ]
  },
  {
   "cell_type": "markdown",
   "metadata": {},
   "source": [
    "####  Northern Hemisphere - Wind Speed (mph) vs. Latitude Linear Regression"
   ]
  },
  {
   "cell_type": "code",
   "execution_count": 19,
   "metadata": {},
   "outputs": [
    {
     "data": {
      "image/png": "[encoded data removed]",
      "text/plain": [
       "<Figure size 432x288 with 1 Axes>"
      ]
     },
     "metadata": {
      "needs_background": "light"
     },
     "output_type": "display_data"
    },
    {
     "name": "stdout",
     "output_type": "stream",
     "text": [
      "The correlation is -0.02\n"
     ]
    }
   ],
   "source": [
    "x_values = n_hemisphere['lat']\n",
    "y_values = n_hemisphere['windspeed']\n",
    "plt.scatter(x_values,y_values)\n",
    "plt.title('Northern Hemisphere - Wind Speed (mph) vs. Latitude')\n",
    "plt.xlabel('Latitude')\n",
    "plt.ylabel('Wind Speed (mph)')\n",
    "\n",
    "# Perform a linear regression on temperature vs. latitude\n",
    "(slope, intercept, rvalue, pvalue, stderr) = linregress(x_values, y_values)\n",
    "# Get regression values\n",
    "regress_values = x_values * slope + intercept\n",
    "line_eq = \"y = \" + str(round(slope,2)) + \"x +\" + str(round(intercept,2))\n",
    "plt.plot(x_values,regress_values,\"r-\")\n",
    "plt.savefig('images/NHem-WindVsLat.png')\n",
    "plt.show()\n",
    "correlation = st.pearsonr(x_values,y_values)\n",
    "print(f\"The correlation is {round(correlation[0],2)}\")"
   ]
  },
  {
   "cell_type": "markdown",
   "metadata": {},
   "source": [
    "####  Southern Hemisphere - Wind Speed (mph) vs. Latitude Linear Regression"
   ]
  },
  {
   "cell_type": "code",
   "execution_count": 20,
   "metadata": {},
   "outputs": [
    {
     "data": {
      "image/png": "[encoded data removed]",
      "text/plain": [
       "<Figure size 432x288 with 1 Axes>"
      ]
     },
     "metadata": {
      "needs_background": "light"
     },
     "output_type": "display_data"
    },
    {
     "name": "stdout",
     "output_type": "stream",
     "text": [
      "The correlation is -0.25\n"
     ]
    }
   ],
   "source": [
    "x_values = s_hemisphere['lat']\n",
    "y_values = s_hemisphere['windspeed']\n",
    "plt.scatter(x_values,y_values)\n",
    "plt.title('Southern Hemisphere - Wind Speed (mph) vs. Latitude')\n",
    "plt.xlabel('Latitude')\n",
    "plt.ylabel('Wind Speed (mph)')\n",
    "\n",
    "# Perform a linear regression on temperature vs. latitude\n",
    "(slope, intercept, rvalue, pvalue, stderr) = linregress(x_values, y_values)\n",
    "# Get regression values\n",
    "regress_values = x_values * slope + intercept\n",
    "line_eq = \"y = \" + str(round(slope,2)) + \"x +\" + str(round(intercept,2))\n",
    "plt.plot(x_values,regress_values,\"r-\")\n",
    "plt.savefig('images/SHem-WindVsLat.png')\n",
    "plt.show()\n",
    "correlation = st.pearsonr(x_values,y_values)\n",
    "print(f\"The correlation is {round(correlation[0],2)}\")"
   ]
  },
  {
   "cell_type": "markdown",
   "metadata": {},
   "source": [
    "Three Observable Trends:|\n",
    "\n",
    "NOTE:  Since the results are based on current weather, the output (particularly for the VacationPy part) varies depending on the time of day this was run.  (I had significantly fewer ideal cities for the VacationPy exercise when I ran the Weather API in the morning vs re-running in the afternoon.)\n",
    "\n",
    "1)  There is a very strong correlation between the Latitute and Max temperature (closer to the equator, the warmer temperature you can expect).  \n",
    "\n",
    "2)  The correlation is stronger with the Northern Hemisphere vs Southern Hemisphere, likely due to the Earth's current tilt & seasons.\n",
    "\n",
    "3)  There is little to no correlation with the Latitude and Humidity, Cloudiness, or Wind Speed."
   ]
  }
 ],
 "metadata": {
  "anaconda-cloud": {},
  "kernel_info": {
   "name": "python3"
  },
  "kernelspec": {
   "display_name": "Python 3",
   "language": "python",
   "name": "python3"
  },
  "language_info": {
   "codemirror_mode": {
    "name": "ipython",
    "version": 3
   },
   "file_extension": ".py",
   "mimetype": "text/x-python",
   "name": "python",
   "nbconvert_exporter": "python",
   "pygments_lexer": "ipython3",
   "version": "3.8.8"
  },
  "latex_envs": {
   "LaTeX_envs_menu_present": true,
   "autoclose": false,
   "autocomplete": true,
   "bibliofile": "biblio.bib",
   "cite_by": "apalike",
   "current_citInitial": 1,
   "eqLabelWithNumbers": true,
   "eqNumInitial": 1,
   "hotkeys": {
    "equation": "Ctrl-E",
    "itemize": "Ctrl-I"
   },
   "labels_anchors": false,
   "latex_user_defs": false,
   "report_style_numbering": false,
   "user_envs_cfg": false
  },
  "nteract": {
   "version": "0.12.3"
  }
 },
 "nbformat": 4,
 "nbformat_minor": 2
}
