{
 "cells": [
  {
   "cell_type": "markdown",
   "metadata": {},
   "source": [
    "# VacationPy\n",
    "----\n",
    "\n",
    "#### Note\n",
    "* Keep an eye on your API usage. Use https://developers.google.com/maps/reporting/gmp-reporting as reference for how to monitor your usage and billing.\n",
    "\n",
    "* Instructions have been included for each segment. You do not have to follow them exactly, but they are included to help you think through the steps."
   ]
  },
  {
   "cell_type": "code",
   "execution_count": 2,
   "metadata": {},
   "outputs": [],
   "source": [
    "###################################################################################\n",
    "##\n",
    "##  Python API Homework - What's the Weather Like\n",
    "##        Part II - VacationPY\n",
    "##\n",
    "##\n",
    "##          Author: George Alonzo\n",
    "##        Due Date: October 9, 2021\n",
    "##\n",
    "###################################################################################\n",
    "\n",
    "# Dependencies and Setup\n",
    "import matplotlib.pyplot as plt\n",
    "import pandas as pd\n",
    "import numpy as np\n",
    "import requests\n",
    "import gmaps\n",
    "import os\n",
    "\n",
    "# Import API key\n",
    "#from api_keys import g_key\n",
    "\n",
    "# Google developer API key\n",
    "from api_keys import g_key\n",
    "\n",
    "# Configure gmaps\n",
    "gmaps.configure(api_key=g_key)"
   ]
  },
  {
   "cell_type": "markdown",
   "metadata": {},
   "source": [
    "### Store Part I results into DataFrame\n",
    "* Load the csv exported in Part I to a DataFrame"
   ]
  },
  {
   "cell_type": "code",
   "execution_count": 3,
   "metadata": {},
   "outputs": [
    {
     "name": "stdout",
     "output_type": "stream",
     "text": [
      "Number of records in the input data file: 588\n"
     ]
    }
   ],
   "source": [
    "# Input File (CSV)\n",
    "input_data_file = \"output_data/cities.csv\"\n",
    "\n",
    "city_data = pd.read_csv(input_data_file)\n",
    "city_data.dropna(inplace = True) \n",
    "print(f\"Number of records in the input data file: {len(city_data)}\")"
   ]
  },
  {
   "cell_type": "markdown",
   "metadata": {},
   "source": [
    "### Humidity Heatmap\n",
    "* Configure gmaps.\n",
    "* Use the Lat and Lng as locations and Humidity as the weight.\n",
    "* Add Heatmap layer to map."
   ]
  },
  {
   "cell_type": "code",
   "execution_count": 4,
   "metadata": {},
   "outputs": [],
   "source": [
    "# Store latitude and longitude in locations\n",
    "\n",
    "coordinates = city_data[[\"lat\", \"long\"]]\n",
    "\n",
    "humidity = city_data[\"humidity\"].astype(float)"
   ]
  },
  {
   "cell_type": "code",
   "execution_count": 5,
   "metadata": {},
   "outputs": [
    {
     "data": {
      "application/vnd.jupyter.widget-view+json": {
       "model_id": "0258cac25bf245958a8a105e5c9e0087",
       "version_major": 2,
       "version_minor": 0
      },
      "text/plain": [
       "Figure(layout=FigureLayout(height='420px'))"
      ]
     },
     "metadata": {},
     "output_type": "display_data"
    }
   ],
   "source": [
    "fig = gmaps.figure(center=(0.0,0.0), zoom_level=1.4)\n",
    "# Create heat layer\n",
    "heat_layer = gmaps.heatmap_layer(coordinates, weights=humidity, \n",
    "                                 dissipating=False, max_intensity=95,\n",
    "                                 point_radius=3)\n",
    "\n",
    "# Add layer\n",
    "fig.add_layer(heat_layer)\n",
    "\n",
    "# Display figure\n",
    "fig"
   ]
  },
  {
   "cell_type": "markdown",
   "metadata": {},
   "source": [
    "### Create new DataFrame fitting weather criteria\n",
    "* Narrow down the cities to fit weather conditions.\n",
    "* Drop any rows will null values."
   ]
  },
  {
   "cell_type": "code",
   "execution_count": 6,
   "metadata": {},
   "outputs": [
    {
     "name": "stdout",
     "output_type": "stream",
     "text": [
      "Number of cities meeting criteria: 10\n"
     ]
    }
   ],
   "source": [
    "ideal_cities = city_data.loc[(city_data[\"maxtemp\"]> 70) & \n",
    "                             (city_data[\"maxtemp\"]< 80) & \n",
    "                             (city_data[\"windspeed\"]< 10) &\n",
    "                             (city_data[\"cloudiness\"] == 0)]\n",
    "\n",
    "print(f\"Number of cities meeting criteria: {len(ideal_cities)}\")"
   ]
  },
  {
   "cell_type": "markdown",
   "metadata": {},
   "source": [
    "### Hotel Map\n",
    "* Store into variable named `hotel_df`.\n",
    "* Add a \"Hotel Name\" column to the DataFrame.\n",
    "* Set parameters to search for hotels with 5000 meters.\n",
    "* Hit the Google Places API for each city's coordinates.\n",
    "* Store the first Hotel result into the DataFrame.\n",
    "* Plot markers on top of the heatmap."
   ]
  },
  {
   "cell_type": "code",
   "execution_count": 7,
   "metadata": {},
   "outputs": [],
   "source": [
    "# params dictionary to update each iteration\n",
    "params = {\n",
    "    \"radius\": 5000,\n",
    "    \"type\": \"lodging\",\n",
    "    \"key\": g_key}\n",
    "\n",
    "geo_params = {\"key\": g_key}"
   ]
  },
  {
   "cell_type": "code",
   "execution_count": 8,
   "metadata": {},
   "outputs": [],
   "source": [
    "hotel_df = pd.DataFrame(columns =['Hotel Name','City','Country','Lat','Lng'])"
   ]
  },
  {
   "cell_type": "code",
   "execution_count": 9,
   "metadata": {},
   "outputs": [
    {
     "name": "stdout",
     "output_type": "stream",
     "text": [
      "Missing field/result... skipping.\n"
     ]
    },
    {
     "data": {
      "text/html": [
       "<div>\n",
       "<style scoped>\n",
       "    .dataframe tbody tr th:only-of-type {\n",
       "        vertical-align: middle;\n",
       "    }\n",
       "\n",
       "    .dataframe tbody tr th {\n",
       "        vertical-align: top;\n",
       "    }\n",
       "\n",
       "    .dataframe thead th {\n",
       "        text-align: right;\n",
       "    }\n",
       "</style>\n",
       "<table border=\"1\" class=\"dataframe\">\n",
       "  <thead>\n",
       "    <tr style=\"text-align: right;\">\n",
       "      <th></th>\n",
       "      <th>Hotel Name</th>\n",
       "      <th>City</th>\n",
       "      <th>Country</th>\n",
       "      <th>Lat</th>\n",
       "      <th>Lng</th>\n",
       "    </tr>\n",
       "  </thead>\n",
       "  <tbody>\n",
       "    <tr>\n",
       "      <th>69</th>\n",
       "      <td>صالون زيرو</td>\n",
       "      <td>Heet</td>\n",
       "      <td>Al Anbar Governorate</td>\n",
       "      <td>33.644258</td>\n",
       "      <td>42.815978</td>\n",
       "    </tr>\n",
       "    <tr>\n",
       "      <th>120</th>\n",
       "      <td>Florence Hotel Assiut</td>\n",
       "      <td>Assiut Governorate</td>\n",
       "      <td>Assiut Governorate</td>\n",
       "      <td>27.187037</td>\n",
       "      <td>31.193933</td>\n",
       "    </tr>\n",
       "    <tr>\n",
       "      <th>182</th>\n",
       "      <td>Hôtel La Giralda</td>\n",
       "      <td>Nador Province</td>\n",
       "      <td>Oriental</td>\n",
       "      <td>35.1722</td>\n",
       "      <td>-2.9272</td>\n",
       "    </tr>\n",
       "    <tr>\n",
       "      <th>303</th>\n",
       "      <td>Austral Hotel</td>\n",
       "      <td>Comodoro Rivadavia</td>\n",
       "      <td>Argentina</td>\n",
       "      <td>-45.86268</td>\n",
       "      <td>-67.476643</td>\n",
       "    </tr>\n",
       "    <tr>\n",
       "      <th>381</th>\n",
       "      <td>Goto Guesthouse Utojuku &amp; SA Car Rental</td>\n",
       "      <td>Goto</td>\n",
       "      <td>Japan</td>\n",
       "      <td>32.694457</td>\n",
       "      <td>128.837452</td>\n",
       "    </tr>\n",
       "    <tr>\n",
       "      <th>431</th>\n",
       "      <td>Motel 6 Barstow, CA</td>\n",
       "      <td>Barstow</td>\n",
       "      <td>United States</td>\n",
       "      <td>34.897604</td>\n",
       "      <td>-117.007178</td>\n",
       "    </tr>\n",
       "    <tr>\n",
       "      <th>436</th>\n",
       "      <td>Almadina Hotel</td>\n",
       "      <td>Al Wahat District</td>\n",
       "      <td>Al Wahat District</td>\n",
       "      <td>30.757527</td>\n",
       "      <td>20.224074</td>\n",
       "    </tr>\n",
       "    <tr>\n",
       "      <th>489</th>\n",
       "      <td>The Ritz-Carlton, Half Moon Bay</td>\n",
       "      <td>Half Moon Bay</td>\n",
       "      <td>94019</td>\n",
       "      <td>37.433789</td>\n",
       "      <td>-122.441509</td>\n",
       "    </tr>\n",
       "    <tr>\n",
       "      <th>551</th>\n",
       "      <td>Hotel Patagonia</td>\n",
       "      <td>Belgrano Sudeste</td>\n",
       "      <td>Río Negro</td>\n",
       "      <td>-41.131426</td>\n",
       "      <td>-71.324583</td>\n",
       "    </tr>\n",
       "  </tbody>\n",
       "</table>\n",
       "</div>"
      ],
      "text/plain": [
       "                                  Hotel Name                City  \\\n",
       "69                                صالون زيرو                Heet   \n",
       "120                    Florence Hotel Assiut  Assiut Governorate   \n",
       "182                         Hôtel La Giralda      Nador Province   \n",
       "303                            Austral Hotel  Comodoro Rivadavia   \n",
       "381  Goto Guesthouse Utojuku & SA Car Rental                Goto   \n",
       "431                      Motel 6 Barstow, CA             Barstow   \n",
       "436                           Almadina Hotel   Al Wahat District   \n",
       "489          The Ritz-Carlton, Half Moon Bay       Half Moon Bay   \n",
       "551                          Hotel Patagonia    Belgrano Sudeste   \n",
       "\n",
       "                  Country        Lat         Lng  \n",
       "69   Al Anbar Governorate  33.644258   42.815978  \n",
       "120    Assiut Governorate  27.187037   31.193933  \n",
       "182              Oriental    35.1722     -2.9272  \n",
       "303             Argentina  -45.86268  -67.476643  \n",
       "381                 Japan  32.694457  128.837452  \n",
       "431         United States  34.897604 -117.007178  \n",
       "436     Al Wahat District  30.757527   20.224074  \n",
       "489                 94019  37.433789 -122.441509  \n",
       "551             Río Negro -41.131426  -71.324583  "
      ]
     },
     "execution_count": 9,
     "metadata": {},
     "output_type": "execute_result"
    }
   ],
   "source": [
    "# NOTE: Do not change any of the code in this cell\n",
    "\n",
    "# Using the template add the hotel marks to the heatmap\n",
    "info_box_template = \"\"\"\n",
    "<dl>\n",
    "<dt>Name</dt><dd>{Hotel Name}</dd>\n",
    "<dt>City</dt><dd>{City}</dd>\n",
    "<dt>Country</dt><dd>{Country}</dd>\n",
    "</dl>\n",
    "\"\"\"\n",
    "# Store the DataFrame Row\n",
    "\n",
    "# Use the lat/lng we recovered from ideal cities\n",
    "for index, row in ideal_cities.iterrows():\n",
    "    # get lat, lng from df\n",
    "    lat = row[\"lat\"]\n",
    "    lng = row[\"long\"]\n",
    "\n",
    "    # change location each iteration while leaving original params in place\n",
    "    params[\"location\"] = f\"{lat},{lng}\"\n",
    "    geo_params[\"latlng\"] = f\"{lat},{lng}\"\n",
    "\n",
    "    \n",
    "    base_url = \"https://maps.googleapis.com/maps/api/place/nearbysearch/json\"\n",
    "\n",
    "    # make request  \n",
    "    name_address = requests.get(base_url, params=params)\n",
    "\n",
    "    # convert to json\n",
    "    name_address = name_address.json()\n",
    "\n",
    "    # Create URL specific for the Geocode API (to try and obtain city/country for the hotel)\n",
    "    #    since the hotel may not actually be in the ideal city\n",
    "    geo_url = \"https://maps.googleapis.com/maps/api/geocode/json\"  \n",
    "    \n",
    "    try:\n",
    "        hotel_df.loc[index, \"Hotel Name\"] = name_address[\"results\"][0][\"name\"]\n",
    "        hotel_df.loc[index, \"Lat\"] = name_address[\"results\"][0][\"geometry\"][\"location\"][\"lat\"]\n",
    "        hotel_df.loc[index, \"Lng\"] = name_address[\"results\"][0][\"geometry\"][\"location\"][\"lng\"]\n",
    "\n",
    "        # Attempt to obtain city & country for the Lat & Lng via Google Geocode\n",
    "        #     since hotel may not actually be in the ideal city\n",
    "        geo_url = (f\"https://maps.googleapis.com/maps/api/geocode/json?latlng={lat},{lng}&key={g_key}\")\n",
    "        city_country = requests.get(geo_url)\n",
    "        city_country = city_country.json()\n",
    "        try:\n",
    "            hotel_df.loc[index, \"City\"] = city_country[\"results\"][0][\"address_components\"][2][\"long_name\"]\n",
    "        except:\n",
    "            hotel_df.loc[index, \"City\"] = \"\"\n",
    "            print(\"Unable to locate City for Lat/Lng.\")\n",
    "        try:\n",
    "            hotel_df.loc[index, \"Country\"] = city_country[\"results\"][0][\"address_components\"][len(city_country[\"results\"][0][\"address_components\"])-2][\"long_name\"]\n",
    "        except:\n",
    "            hotel_df.loc[index, \"Country\"] = \"\"\n",
    "            print(\"Unable to locate Country for Lat/Lng.\")\n",
    "    except (KeyError, IndexError):\n",
    "        print(\"Missing field/result... skipping.\")\n",
    "\n",
    "hotel_info = [info_box_template.format(**row) for index, row in hotel_df.iterrows()]\n",
    "locations = hotel_df[[\"Lat\", \"Lng\"]]\n",
    "hotel_df"
   ]
  },
  {
   "cell_type": "code",
   "execution_count": 10,
   "metadata": {},
   "outputs": [
    {
     "data": {
      "application/vnd.jupyter.widget-view+json": {
       "model_id": "0258cac25bf245958a8a105e5c9e0087",
       "version_major": 2,
       "version_minor": 0
      },
      "text/plain": [
       "Figure(layout=FigureLayout(height='420px'))"
      ]
     },
     "metadata": {},
     "output_type": "display_data"
    }
   ],
   "source": [
    "# Add marker layer ontop of heat map\n",
    "#fig = gmaps.figure(center=(0.0,0.0), zoom_level=1.4)\n",
    "markers = gmaps.marker_layer(locations,info_box_content = hotel_info)\n",
    "fig.add_layer(markers)\n",
    "# Display figure\n",
    "fig"
   ]
  },
  {
   "cell_type": "code",
   "execution_count": null,
   "metadata": {},
   "outputs": [],
   "source": []
  }
 ],
 "metadata": {
  "kernelspec": {
   "display_name": "Python 3",
   "language": "python",
   "name": "python3"
  },
  "language_info": {
   "codemirror_mode": {
    "name": "ipython",
    "version": 3
   },
   "file_extension": ".py",
   "mimetype": "text/x-python",
   "name": "python",
   "nbconvert_exporter": "python",
   "pygments_lexer": "ipython3",
   "version": "3.8.8"
  },
  "latex_envs": {
   "LaTeX_envs_menu_present": true,
   "autoclose": false,
   "autocomplete": true,
   "bibliofile": "biblio.bib",
   "cite_by": "apalike",
   "current_citInitial": 1,
   "eqLabelWithNumbers": true,
   "eqNumInitial": 1,
   "hotkeys": {
    "equation": "Ctrl-E",
    "itemize": "Ctrl-I"
   },
   "labels_anchors": false,
   "latex_user_defs": false,
   "report_style_numbering": false,
   "user_envs_cfg": false
  }
 },
 "nbformat": 4,
 "nbformat_minor": 4
}
